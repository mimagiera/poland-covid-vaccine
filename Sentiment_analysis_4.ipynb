{
 "cells": [
  {
   "cell_type": "code",
   "execution_count": null,
   "metadata": {},
   "outputs": [],
   "source": [
    "import pymongo\n",
    "import pandas as pd\n",
    "\n",
    "DB_CONN_STRING = \"mongodb://localhost:27017/\"\n",
    "DB_NAME = \"recent-poland-covid-vaccine-tweets\"\n",
    "COLLECTION_NAME = \"tweets\"\n",
    "\n",
    "mongo_client = pymongo.MongoClient(DB_CONN_STRING)\n",
    "database_name = mongo_client[DB_NAME]\n",
    "data_collection = database_name[COLLECTION_NAME]\n",
    "\n",
    "projection = {\"date\":1, 'sentiment':1}\n",
    "tweets = [tweet for tweet in data_collection.find({},projection)]\n",
    "\n",
    "df = pd.DataFrame(tweets)"
   ]
  },
  {
   "cell_type": "code",
   "execution_count": null,
   "metadata": {},
   "outputs": [],
   "source": [
    "import matplotlib.pyplot as plt\n",
    "import matplotlib.dates as mdates\n",
    "import datetime\n",
    "\n",
    "# all_dates = [datetime.datetime.strptime(d[:10], \"%Y-%m-%d\").date() for d in df['date']]\n",
    "# all_setiment = [s for s in df['sentiment']]\n",
    "\n",
    "df_2 = df[['date','sentiment']]\n",
    "df_2['date'] = df_2['date'].apply(lambda d: datetime.datetime.strptime(d[:10], \"%Y-%m-%d\").date())\n",
    "df_2['date'] = df_2.loc[df_2['date'] > datetime.date(2021, 1, 30)]\n",
    "df_2['sentiment'] = df_2['sentiment'].apply(lambda sentiment: float(sentiment))\n",
    "df2_grouped = df_2.groupby(['date']).sum()"
   ]
  },
  {
   "cell_type": "code",
   "execution_count": null,
   "metadata": {},
   "outputs": [],
   "source": [
    "x_values = df2_grouped.index\n",
    "y_values = df2_grouped['sentiment']\n",
    "\n",
    "fig, ax = plt.subplots(figsize=(15,10))\n",
    "formatter = mdates.DateFormatter(\"%Y-%m-%d\")\n",
    "ax.xaxis.set_major_formatter(formatter)\n",
    "locator = mdates.MonthLocator()\n",
    "ax.xaxis.set_major_locator(locator)\n",
    "\n",
    "\n",
    "plt.xlabel(\"Data\")\n",
    "plt.ylabel(\"Sumaryczny sentyment\")\n",
    "plt.title(\"Sumaryczny sentyment tweetów\")\n",
    "\n",
    "plt.plot(x_values, y_values, '#1da1f2')\n",
    "fig.autofmt_xdate()\n",
    "# plt.xticks(rotation=45)\n",
    "plt.show()"
   ]
  },
  {
   "cell_type": "code",
   "execution_count": null,
   "metadata": {},
   "outputs": [],
   "source": [
    "x_values[:10]"
   ]
  },
  {
   "cell_type": "markdown",
   "metadata": {},
   "source": [
    "### Narzędzie do analizy czasowej "
   ]
  },
  {
   "cell_type": "code",
   "execution_count": null,
   "metadata": {},
   "outputs": [],
   "source": [
    "# from_ = datetime.date(2021, 3, 19)\n",
    "# to_ = datetime.date(2021, 3, 29)"
   ]
  },
  {
   "cell_type": "code",
   "execution_count": null,
   "metadata": {},
   "outputs": [],
   "source": [
    "def get_positive_tweets_df(df):\n",
    "    return df[df['sentiment'] > 0]\n",
    "\n",
    "def get_neutral_tweets_df(df):\n",
    "    return df[df['sentiment'] == 0]\n",
    "\n",
    "def get_negative_tweets_df(df):\n",
    "    return df[df['sentiment'] < 0]\n",
    "\n",
    "def get_tweets_count_by_date(df2, from_, to_):\n",
    "    df2 = df2.assign(sentiment=1)\n",
    "    df2_grouped = df2.groupby(['date']).sum()\n",
    "\n",
    "    df2_grouped = df2_grouped.loc[df2_grouped.index > from_]\n",
    "    df2_grouped = df2_grouped.loc[df2_grouped.index < to_]\n",
    "\n",
    "    x = df2_grouped.index\n",
    "    y = df2_grouped['sentiment']\n",
    "    return x, y"
   ]
  },
  {
   "cell_type": "code",
   "execution_count": null,
   "metadata": {},
   "outputs": [],
   "source": [
    "def atom_plot(ax, df, date, event):\n",
    "    from_ = date - datetime.timedelta(5)\n",
    "    to_ = date + datetime.timedelta(5)\n",
    "    \n",
    "    x_positive, y_positive = get_tweets_count_by_date(get_positive_tweets_df(df), from_, to_)\n",
    "    x_neutral, y_neutral = get_tweets_count_by_date(get_neutral_tweets_df(df), from_, to_)\n",
    "    x_negative, y_negative = get_tweets_count_by_date(get_negative_tweets_df(df), from_, to_)\n",
    "    \n",
    "    ax.plot(x_positive, y_positive, '#13bd00')\n",
    "    ax.plot(x_neutral, y_neutral, '#ffe100')\n",
    "    ax.plot(x_negative, y_negative, '#b50000')\n",
    "    \n",
    "    ax.set_title(event)\n",
    "    ax.set_xticklabels([from_] + [\"\" for i in range(3)]+ [date] + [\"\" for i in range(3)] + [to_], rotation=75)\n"
   ]
  },
  {
   "cell_type": "code",
   "execution_count": null,
   "metadata": {},
   "outputs": [],
   "source": [
    "def plot_for_dates(df, dates, events):\n",
    "    n = len(dates)\n",
    "    fig, ax = plt.subplots(nrows=n//4+1, ncols=4, figsize=(16,(n//4+1)*4 ), sharey=True)\n",
    "    for i in range(n):\n",
    "        atom_plot(ax[i//4][i%4], df, dates[i], events[i])\n",
    "    for i in range(n, (n//4+1)*4):\n",
    "        ax[i//4][i%4].axis('off')\n",
    "    plt.subplots_adjust(left=0.1,\n",
    "                    bottom=0.1, \n",
    "                    right=0.9, \n",
    "                    top=0.9, \n",
    "                    wspace=0.4, \n",
    "                    hspace=0.8)"
   ]
  },
  {
   "cell_type": "code",
   "execution_count": null,
   "metadata": {},
   "outputs": [],
   "source": [
    "dates_and_events = [\n",
    "    (datetime.date(2021, 2, 5), \"Ogłoszenie luzowania obostrzeń od 12.02\"),\n",
    "    (datetime.date(2021, 2, 12), \"Luzowanie obostrzeń\"),\n",
    "    (datetime.date(2021, 2, 24), \"Przedłużenie poprzednich obostrzeń\"),\n",
    "    (datetime.date(2021, 3, 5), \"Zaostrzenie zasad na Pomorzu\"),\n",
    "    (datetime.date(2021, 3, 11), \"Nowe rejony z obostrzeniami\"),\n",
    "    (datetime.date(2021, 3, 17), \"Nowe zasady w całej PL\"),\n",
    "    (datetime.date(2021, 3, 20), \"Przyspieszenie rejestracji\\n na szczepienia dla osób 60+\"),\n",
    "    (datetime.date(2021, 3, 24), \"Rekordowa liczba zakażeń\"),\n",
    "    (datetime.date(2021, 4, 1), \"Decyzja Ministerstwa Zdrowia\\n ws. szczepionki AstraZeneca\"),\n",
    "    (datetime.date(2021, 4, 14), \"Oświadczenie episkopatu\\n ws. moralności AstraZeneca\"),\n",
    "]\n",
    "\n",
    "dates = list(map(lambda x: x[0], dates_and_events))\n",
    "events = list(map(lambda x: x[1], dates_and_events))\n",
    "plot_for_dates(df_2, dates, events)"
   ]
  },
  {
   "cell_type": "code",
   "execution_count": null,
   "metadata": {},
   "outputs": [],
   "source": []
  },
  {
   "cell_type": "code",
   "execution_count": null,
   "metadata": {},
   "outputs": [],
   "source": []
  },
  {
   "cell_type": "code",
   "execution_count": null,
   "metadata": {},
   "outputs": [],
   "source": []
  }
 ],
 "metadata": {
  "kernelspec": {
   "display_name": "Python 3",
   "language": "python",
   "name": "python3"
  },
  "language_info": {
   "codemirror_mode": {
    "name": "ipython",
    "version": 3
   },
   "file_extension": ".py",
   "mimetype": "text/x-python",
   "name": "python",
   "nbconvert_exporter": "python",
   "pygments_lexer": "ipython3",
   "version": "3.7.3"
  }
 },
 "nbformat": 4,
 "nbformat_minor": 4
}
