{
 "cells": [
  {
   "cell_type": "code",
   "execution_count": null,
   "metadata": {},
   "outputs": [],
   "source": [
    "import pandas as pd\n",
    "import numpy as np"
   ]
  },
  {
   "cell_type": "markdown",
   "metadata": {},
   "source": [
    "## Wczytanie słownika i wyfiltrowanie interesujących danych"
   ]
  },
  {
   "cell_type": "code",
   "execution_count": null,
   "metadata": {},
   "outputs": [],
   "source": [
    "df = pd.read_csv('./plwordnet_4_2/słownik_anotacji_emocjonlanej.csv')"
   ]
  },
  {
   "cell_type": "code",
   "execution_count": null,
   "metadata": {},
   "outputs": [],
   "source": [
    "nacechowania = pd.DataFrame(df.stopien_nacechowania).drop_duplicates()['stopien_nacechowania'].tolist()\n",
    "nacechowania.remove(np.nan)\n",
    "nacechowania"
   ]
  },
  {
   "cell_type": "code",
   "execution_count": null,
   "metadata": {},
   "outputs": [],
   "source": [
    "df = df[df.stopien_nacechowania.isin(nacechowania)]\n",
    "df"
   ]
  },
  {
   "cell_type": "code",
   "execution_count": null,
   "metadata": {},
   "outputs": [],
   "source": [
    "word_sentiment_df = df[['lemat','stopien_nacechowania']].drop_duplicates()\n",
    "word_sentiment_df"
   ]
  },
  {
   "cell_type": "code",
   "execution_count": null,
   "metadata": {},
   "outputs": [],
   "source": [
    "word_sentiment_dict = {}\n",
    "for index, row in word_sentiment_df.iterrows():\n",
    "    word_sentiment_dict[row['lemat']] = row['stopien_nacechowania']"
   ]
  },
  {
   "cell_type": "markdown",
   "metadata": {},
   "source": [
    "## Wczytanie tweetów do analizy"
   ]
  },
  {
   "cell_type": "code",
   "execution_count": null,
   "metadata": {},
   "outputs": [],
   "source": [
    "# pomocnicze funkcje\n",
    "\n",
    "def flatten_dct_(prefix, dct):\n",
    "    res = {}\n",
    "    for key, value in dct.items():\n",
    "        if not isinstance(value, dict):\n",
    "            res[prefix + key] = value\n",
    "        else:\n",
    "            for key2, value2 in flatten_dct_(key+\".\", value).items():\n",
    "                res[prefix+key2] = value2\n",
    "    return res\n",
    "\n",
    "def flatten_dct(dct):\n",
    "    return flatten_dct_('', dct)\n",
    "\n"
   ]
  },
  {
   "cell_type": "markdown",
   "metadata": {},
   "source": [
    "#### Wczytanie tweetów do pd.DataFrame"
   ]
  },
  {
   "cell_type": "code",
   "execution_count": null,
   "metadata": {},
   "outputs": [],
   "source": [
    "import pymongo\n",
    "\n",
    "DB_CONN_STRING = \"mongodb://localhost:27017/\"\n",
    "DB_NAME = \"recent-poland-covid-vaccine-tweets\"\n",
    "COLLECTION_NAME = \"tweets\"\n",
    "\n",
    "mongo_client = pymongo.MongoClient(DB_CONN_STRING)\n",
    "database_name = mongo_client[DB_NAME]\n",
    "data_collection = database_name[COLLECTION_NAME]\n",
    "\n",
    "\n",
    "query = {'sentiment':{ '$exists': False}}\n",
    "projection = {\"date\":1, \"content\":1, \"user.username\":1, \"user.id\":1, \"user.followersCount\":1, \"user.verified\":1}\n",
    "tweets = [flatten_dct(tweet) for tweet in data_collection.find(query, projection)]\n",
    "# print(tweets[0])\n",
    "\n",
    "df = pd.DataFrame(tweets)\n",
    "df"
   ]
  },
  {
   "cell_type": "markdown",
   "metadata": {},
   "source": [
    "#### Wyczyszczenie tweetów z hashtagów, cytowań, linków... "
   ]
  },
  {
   "cell_type": "code",
   "execution_count": null,
   "metadata": {},
   "outputs": [],
   "source": [
    "import re\n",
    "\n",
    "def clean_up_tweet(tweet):\n",
    "    tweet = ' ' + tweet + ' ' #added to simplify regex below\n",
    "    tweet = re.sub(r' [$#@][^ ]* | http[^ ]* ', ' ', tweet)[1:-2]\n",
    "    return re.sub(r'[^\\w ]', '', tweet).lower()\n",
    "\n",
    "df['content_cleaned'] = [clean_up_tweet(tw) for tw in df['content'].values]"
   ]
  },
  {
   "cell_type": "markdown",
   "metadata": {},
   "source": [
    "#### Sprowadzenie słów do podstawowej formy gramatycznej"
   ]
  },
  {
   "cell_type": "code",
   "execution_count": null,
   "metadata": {},
   "outputs": [],
   "source": [
    "from stempel import StempelStemmer\n",
    "stemmer = StempelStemmer.default()"
   ]
  },
  {
   "cell_type": "code",
   "execution_count": null,
   "metadata": {},
   "outputs": [],
   "source": [
    "def to_base_grammar_form(tweet):\n",
    "    result_tweet = ''\n",
    "    for word in tweet.split(' '):\n",
    "        if len(word) > 0:\n",
    "            try:\n",
    "                result_tweet += ' ' + stemmer.stem(word)\n",
    "            except TypeError as e:\n",
    "                result_tweet += ' ' + word\n",
    "    return result_tweet[1:]\n",
    "\n",
    "df['content_cleaned'] = [to_base_grammar_form(tw) for tw in df['content_cleaned'].values]"
   ]
  },
  {
   "cell_type": "markdown",
   "metadata": {},
   "source": [
    "## Analiza sentymentu"
   ]
  },
  {
   "cell_type": "code",
   "execution_count": null,
   "metadata": {},
   "outputs": [],
   "source": [
    "def get_sentiment(tweet):\n",
    "    sentiment = 0\n",
    "    f = {\n",
    "        '- s' : -0.5,\n",
    "        '- s ': -0.5,\n",
    "        '- m' : - 1,\n",
    "        '+ s' : 0.5,\n",
    "        '+ m' : 1,\n",
    "        'amb' : 0\n",
    "    }\n",
    "    for word in tweet.split(' '):\n",
    "        try:\n",
    "            sentiment += f[word_sentiment_dict[word]]\n",
    "#             print(\"Word: {} Elementar sentiment: {}\".format(word, f[word_sentiment_dict[word]]))\n",
    "        except KeyError:\n",
    "            pass\n",
    "        \n",
    "    return sentiment"
   ]
  },
  {
   "cell_type": "code",
   "execution_count": null,
   "metadata": {},
   "outputs": [],
   "source": [
    "df['sentiment'] = [get_sentiment(tw) for tw in df['content_cleaned'].values]"
   ]
  },
  {
   "cell_type": "code",
   "execution_count": null,
   "metadata": {
    "scrolled": false
   },
   "outputs": [],
   "source": [
    "# tw_idx = 370038\n",
    "# print(df['content'][tw_idx] + \"  --> \" + str(get_sentiment(df['content_cleaned'][tw_idx])))"
   ]
  },
  {
   "cell_type": "markdown",
   "metadata": {},
   "source": [
    "## Zapisanie sentymentu w bazie danych"
   ]
  },
  {
   "cell_type": "code",
   "execution_count": null,
   "metadata": {},
   "outputs": [],
   "source": [
    "for index, row in df.iterrows():\n",
    "    myquery = { \"_id\": int(row['_id']) }\n",
    "    newvalues = { \"$set\": { \"sentiment\": \"{}\".format(row['sentiment']) } }\n",
    "\n",
    "    data_collection.find_one_and_update(myquery, newvalues)"
   ]
  }
 ],
 "metadata": {
  "kernelspec": {
   "display_name": "Python 3",
   "language": "python",
   "name": "python3"
  },
  "language_info": {
   "codemirror_mode": {
    "name": "ipython",
    "version": 3
   },
   "file_extension": ".py",
   "mimetype": "text/x-python",
   "name": "python",
   "nbconvert_exporter": "python",
   "pygments_lexer": "ipython3",
   "version": "3.7.3"
  }
 },
 "nbformat": 4,
 "nbformat_minor": 4
}
