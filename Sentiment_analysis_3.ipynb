{
 "cells": [
  {
   "cell_type": "code",
   "execution_count": null,
   "metadata": {},
   "outputs": [],
   "source": [
    "import pandas as pd\n",
    "import pymongo\n",
    "import numpy as np \n",
    "\n",
    "DB_CONN_STRING = \"mongodb://localhost:27017/\"\n",
    "DB_NAME = \"recent-poland-covid-vaccine-tweets\"\n",
    "COLLECTION_NAME = \"tweets\"\n",
    "\n",
    "mongo_client = pymongo.MongoClient(DB_CONN_STRING)\n",
    "database_name = mongo_client[DB_NAME]\n",
    "data_collection = database_name[COLLECTION_NAME]\n",
    "\n",
    "projection = {\"_id\": 1, \"quotedTweet\":1, \"sentiment\": 1}\n",
    "tweets = [tweet for tweet in data_collection.find({'quotedTweet' : {'$gte': 1}}, projection)]\n",
    "\n",
    "df = pd.DataFrame(tweets)\n",
    "# df"
   ]
  },
  {
   "cell_type": "code",
   "execution_count": null,
   "metadata": {},
   "outputs": [],
   "source": [
    "df"
   ]
  },
  {
   "cell_type": "code",
   "execution_count": null,
   "metadata": {},
   "outputs": [],
   "source": [
    "def get_sentiment_by_id(_id):\n",
    "    projection = {\"_id\": 1, \"sentiment\": 1}\n",
    "    return [tweet['sentiment'] for tweet in data_collection.find({'_id' : _id}, projection)][0]\n",
    "\n",
    "df['quotedTweetSentiment'] = df.apply(lambda row: get_sentiment_by_id(row['quotedTweet']), axis=1)\n",
    "df"
   ]
  },
  {
   "cell_type": "code",
   "execution_count": null,
   "metadata": {},
   "outputs": [],
   "source": [
    "df2 = df[[\"sentiment\", \"quotedTweetSentiment\"]]\n",
    "df2[\"count\"] = np.ones(len(df2['sentiment']))\n",
    "df2 = df2.groupby(by=['sentiment', 'quotedTweetSentiment']).sum()\n",
    "df2[\"sentiment\"] = df2.index.to_frame()[\"sentiment\"]\n",
    "df2[\"quotedTweetSentiment\"] = df2.index.to_frame()[\"quotedTweetSentiment\"]\n",
    "\n",
    "df2[\"sentiment\"] = df2.apply(lambda row: float(row[\"sentiment\"]), axis=1)\n",
    "df2[\"quotedTweetSentiment\"] = df2.apply(lambda row: float(row[\"quotedTweetSentiment\"]), axis=1)\n",
    "\n",
    "df2"
   ]
  },
  {
   "cell_type": "code",
   "execution_count": null,
   "metadata": {},
   "outputs": [],
   "source": [
    "df3 = df2.pivot(index='sentiment',columns='quotedTweetSentiment').fillna(0)"
   ]
  },
  {
   "cell_type": "code",
   "execution_count": null,
   "metadata": {},
   "outputs": [],
   "source": [
    "import seaborn as sns\n",
    "import matplotlib.pyplot as plt\n",
    "\n",
    "f, ax = plt.subplots(figsize=(15,10))\n",
    "ax = sns.heatmap(df3)"
   ]
  },
  {
   "cell_type": "code",
   "execution_count": null,
   "metadata": {},
   "outputs": [],
   "source": [
    "df3.loc[[0.,],[('count',  0.0)]] = 0"
   ]
  },
  {
   "cell_type": "code",
   "execution_count": null,
   "metadata": {},
   "outputs": [],
   "source": [
    "f, ax = plt.subplots(figsize=(15,10))\n",
    "ax = sns.heatmap(df3)"
   ]
  },
  {
   "cell_type": "code",
   "execution_count": null,
   "metadata": {},
   "outputs": [],
   "source": []
  }
 ],
 "metadata": {
  "kernelspec": {
   "display_name": "Python 3",
   "language": "python",
   "name": "python3"
  },
  "language_info": {
   "codemirror_mode": {
    "name": "ipython",
    "version": 3
   },
   "file_extension": ".py",
   "mimetype": "text/x-python",
   "name": "python",
   "nbconvert_exporter": "python",
   "pygments_lexer": "ipython3",
   "version": "3.7.3"
  }
 },
 "nbformat": 4,
 "nbformat_minor": 4
}
