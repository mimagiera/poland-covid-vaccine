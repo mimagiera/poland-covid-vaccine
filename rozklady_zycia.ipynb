{
 "cells": [
  {
   "cell_type": "code",
   "execution_count": 1,
   "id": "continental-notion",
   "metadata": {},
   "outputs": [],
   "source": [
    "import pandas as pd\n",
    "import numpy as np"
   ]
  },
  {
   "cell_type": "code",
   "execution_count": 4,
   "id": "according-backup",
   "metadata": {},
   "outputs": [],
   "source": [
    "import pymongo\n",
    "\n",
    "DB_CONN_STRING = \"mongodb://localhost:27017/\"\n",
    "DB_NAME = \"poland-covid-vaccine-tweets\"\n",
    "COLLECTION_NAME = \"tweets\""
   ]
  },
  {
   "cell_type": "code",
   "execution_count": 3,
   "id": "structural-retirement",
   "metadata": {},
   "outputs": [],
   "source": [
    "import sys\n",
    "sys.path.append('/home/michal/dev/agh/eksploracja/project/poland-covid-vaccine/venv/lib/python3.8/site-packages')"
   ]
  },
  {
   "cell_type": "code",
   "execution_count": 6,
   "id": "loose-sterling",
   "metadata": {},
   "outputs": [],
   "source": [
    "mongo_client = pymongo.MongoClient(DB_CONN_STRING)\n",
    "database_name = mongo_client[DB_NAME]\n",
    "data_collection = database_name[COLLECTION_NAME]"
   ]
  },
  {
   "cell_type": "code",
   "execution_count": 7,
   "id": "informational-willow",
   "metadata": {},
   "outputs": [],
   "source": [
    "tweets = [tweet for tweet in data_collection.find({})]"
   ]
  },
  {
   "cell_type": "code",
   "execution_count": 128,
   "id": "neural-welding",
   "metadata": {},
   "outputs": [],
   "source": [
    "USERS_COLLECTION = \"users\"\n",
    "users_collection = database_name[USERS_COLLECTION]\n",
    "users = [user for user in users_collection.find({})]"
   ]
  },
  {
   "cell_type": "code",
   "execution_count": 129,
   "id": "unknown-chancellor",
   "metadata": {},
   "outputs": [],
   "source": [
    "users_df = pd.DataFrame(users)"
   ]
  },
  {
   "cell_type": "code",
   "execution_count": 46,
   "id": "joined-apparel",
   "metadata": {},
   "outputs": [
    {
     "data": {
      "text/html": [
       "<div>\n",
       "<style scoped>\n",
       "    .dataframe tbody tr th:only-of-type {\n",
       "        vertical-align: middle;\n",
       "    }\n",
       "\n",
       "    .dataframe tbody tr th {\n",
       "        vertical-align: top;\n",
       "    }\n",
       "\n",
       "    .dataframe thead th {\n",
       "        text-align: right;\n",
       "    }\n",
       "</style>\n",
       "<table border=\"1\" class=\"dataframe\">\n",
       "  <thead>\n",
       "    <tr style=\"text-align: right;\">\n",
       "      <th></th>\n",
       "      <th>_id</th>\n",
       "      <th>url</th>\n",
       "      <th>date</th>\n",
       "      <th>content</th>\n",
       "      <th>user</th>\n",
       "      <th>replyCount</th>\n",
       "      <th>retweetCount</th>\n",
       "      <th>likeCount</th>\n",
       "      <th>quoteCount</th>\n",
       "      <th>conversationId</th>\n",
       "      <th>lang</th>\n",
       "      <th>sourceUrl</th>\n",
       "      <th>sourceLabel</th>\n",
       "      <th>retweetedTweet</th>\n",
       "      <th>quotedTweet</th>\n",
       "      <th>mentionedUsers</th>\n",
       "      <th>covid_topic</th>\n",
       "      <th>sentiment</th>\n",
       "      <th>was_quotedTweet</th>\n",
       "    </tr>\n",
       "  </thead>\n",
       "  <tbody>\n",
       "    <tr>\n",
       "      <th>0</th>\n",
       "      <td>1366121799935746049</td>\n",
       "      <td>https://twitter.com/tomaszbryjow/status/136612...</td>\n",
       "      <td>2021-02-28 20:23:13+00:00</td>\n",
       "      <td>AstraZeneca dziesiątkuje prywatne przedszkola....</td>\n",
       "      <td>1257244746256441344</td>\n",
       "      <td>14</td>\n",
       "      <td>43</td>\n",
       "      <td>121</td>\n",
       "      <td>1</td>\n",
       "      <td>1366121799935746049</td>\n",
       "      <td>pl</td>\n",
       "      <td>http://twitter.com/download/android</td>\n",
       "      <td>Twitter for Android</td>\n",
       "      <td>None</td>\n",
       "      <td>NaN</td>\n",
       "      <td>None</td>\n",
       "      <td>True</td>\n",
       "      <td>0.5</td>\n",
       "      <td>NaN</td>\n",
       "    </tr>\n",
       "    <tr>\n",
       "      <th>1</th>\n",
       "      <td>1366094731890069511</td>\n",
       "      <td>https://twitter.com/caspms/status/136609473189...</td>\n",
       "      <td>2021-02-28 18:35:39+00:00</td>\n",
       "      <td>Teściowa gorączkuje po szczepieniu Astrą Zenec...</td>\n",
       "      <td>1231031338699980800</td>\n",
       "      <td>5</td>\n",
       "      <td>1</td>\n",
       "      <td>51</td>\n",
       "      <td>1</td>\n",
       "      <td>1366094731890069511</td>\n",
       "      <td>pl</td>\n",
       "      <td>http://twitter.com/download/android</td>\n",
       "      <td>Twitter for Android</td>\n",
       "      <td>None</td>\n",
       "      <td>NaN</td>\n",
       "      <td>None</td>\n",
       "      <td>True</td>\n",
       "      <td>0.0</td>\n",
       "      <td>NaN</td>\n",
       "    </tr>\n",
       "    <tr>\n",
       "      <th>2</th>\n",
       "      <td>1366108573688856579</td>\n",
       "      <td>https://twitter.com/sta_____pawel/status/13661...</td>\n",
       "      <td>2021-02-28 19:30:39+00:00</td>\n",
       "      <td>@szejnfeld Dlaczego ta szczepionka wywołuje ta...</td>\n",
       "      <td>4107565035</td>\n",
       "      <td>0</td>\n",
       "      <td>0</td>\n",
       "      <td>1</td>\n",
       "      <td>0</td>\n",
       "      <td>1366046249653325824</td>\n",
       "      <td>pl</td>\n",
       "      <td>http://twitter.com/download/iphone</td>\n",
       "      <td>Twitter for iPhone</td>\n",
       "      <td>None</td>\n",
       "      <td>NaN</td>\n",
       "      <td>[535452316]</td>\n",
       "      <td>True</td>\n",
       "      <td>0.0</td>\n",
       "      <td>NaN</td>\n",
       "    </tr>\n",
       "    <tr>\n",
       "      <th>3</th>\n",
       "      <td>1366147063893925898</td>\n",
       "      <td>https://twitter.com/zybstar/status/13661470638...</td>\n",
       "      <td>2021-02-28 22:03:36+00:00</td>\n",
       "      <td>@tomaszbryjow Znajoma nauczycielka też ciężko ...</td>\n",
       "      <td>1307288990664531969</td>\n",
       "      <td>1</td>\n",
       "      <td>0</td>\n",
       "      <td>2</td>\n",
       "      <td>0</td>\n",
       "      <td>1366121799935746049</td>\n",
       "      <td>pl</td>\n",
       "      <td>https://mobile.twitter.com</td>\n",
       "      <td>Twitter Web App</td>\n",
       "      <td>None</td>\n",
       "      <td>NaN</td>\n",
       "      <td>[1257244746256441344]</td>\n",
       "      <td>True</td>\n",
       "      <td>-0.5</td>\n",
       "      <td>NaN</td>\n",
       "    </tr>\n",
       "    <tr>\n",
       "      <th>4</th>\n",
       "      <td>1366085125117730818</td>\n",
       "      <td>https://twitter.com/kejtrouge/status/136608512...</td>\n",
       "      <td>2021-02-28 17:57:29+00:00</td>\n",
       "      <td>@sylvcz Pamietajmy, że jak ruszyły szczepienia...</td>\n",
       "      <td>1003546310</td>\n",
       "      <td>1</td>\n",
       "      <td>2</td>\n",
       "      <td>11</td>\n",
       "      <td>1</td>\n",
       "      <td>1366084298168819712</td>\n",
       "      <td>pl</td>\n",
       "      <td>http://twitter.com/download/iphone</td>\n",
       "      <td>Twitter for iPhone</td>\n",
       "      <td>None</td>\n",
       "      <td>NaN</td>\n",
       "      <td>[101564798]</td>\n",
       "      <td>True</td>\n",
       "      <td>1.5</td>\n",
       "      <td>NaN</td>\n",
       "    </tr>\n",
       "    <tr>\n",
       "      <th>...</th>\n",
       "      <td>...</td>\n",
       "      <td>...</td>\n",
       "      <td>...</td>\n",
       "      <td>...</td>\n",
       "      <td>...</td>\n",
       "      <td>...</td>\n",
       "      <td>...</td>\n",
       "      <td>...</td>\n",
       "      <td>...</td>\n",
       "      <td>...</td>\n",
       "      <td>...</td>\n",
       "      <td>...</td>\n",
       "      <td>...</td>\n",
       "      <td>...</td>\n",
       "      <td>...</td>\n",
       "      <td>...</td>\n",
       "      <td>...</td>\n",
       "      <td>...</td>\n",
       "      <td>...</td>\n",
       "    </tr>\n",
       "    <tr>\n",
       "      <th>666498</th>\n",
       "      <td>1389309572041613312</td>\n",
       "      <td>https://twitter.com/J_Janumir/status/138930957...</td>\n",
       "      <td>2021-05-03 20:03:08+00:00</td>\n",
       "      <td>@GiertychRoman Palikot: \\n1 Kaczyński zaszczep...</td>\n",
       "      <td>1169956956</td>\n",
       "      <td>0</td>\n",
       "      <td>0</td>\n",
       "      <td>0</td>\n",
       "      <td>1</td>\n",
       "      <td>1389301312785981442</td>\n",
       "      <td>pl</td>\n",
       "      <td>https://mobile.twitter.com</td>\n",
       "      <td>Twitter Web App</td>\n",
       "      <td>None</td>\n",
       "      <td>NaN</td>\n",
       "      <td>[2919694493]</td>\n",
       "      <td>NaN</td>\n",
       "      <td>0.0</td>\n",
       "      <td>True</td>\n",
       "    </tr>\n",
       "    <tr>\n",
       "      <th>666499</th>\n",
       "      <td>1388451951231242241</td>\n",
       "      <td>https://twitter.com/MikeWolf9999/status/138845...</td>\n",
       "      <td>2021-05-01 11:15:16+00:00</td>\n",
       "      <td>Konto wspierające Hołownie/PL2050 i dodatkowo ...</td>\n",
       "      <td>1024005327665213440</td>\n",
       "      <td>2</td>\n",
       "      <td>5</td>\n",
       "      <td>15</td>\n",
       "      <td>1</td>\n",
       "      <td>1388451951231242241</td>\n",
       "      <td>pl</td>\n",
       "      <td>http://twitter.com/download/iphone</td>\n",
       "      <td>Twitter for iPhone</td>\n",
       "      <td>None</td>\n",
       "      <td>NaN</td>\n",
       "      <td>None</td>\n",
       "      <td>NaN</td>\n",
       "      <td>0.5</td>\n",
       "      <td>True</td>\n",
       "    </tr>\n",
       "    <tr>\n",
       "      <th>666500</th>\n",
       "      <td>1389497641071960064</td>\n",
       "      <td>https://twitter.com/PiotrWitczak7/status/13894...</td>\n",
       "      <td>2021-05-04 08:30:27+00:00</td>\n",
       "      <td>Według danych WHO na COVID-19 przez rok trwani...</td>\n",
       "      <td>1331869827473027072</td>\n",
       "      <td>3</td>\n",
       "      <td>21</td>\n",
       "      <td>81</td>\n",
       "      <td>1</td>\n",
       "      <td>1389495137982722048</td>\n",
       "      <td>pl</td>\n",
       "      <td>https://mobile.twitter.com</td>\n",
       "      <td>Twitter Web App</td>\n",
       "      <td>None</td>\n",
       "      <td>NaN</td>\n",
       "      <td>None</td>\n",
       "      <td>NaN</td>\n",
       "      <td>-1.0</td>\n",
       "      <td>True</td>\n",
       "    </tr>\n",
       "    <tr>\n",
       "      <th>666501</th>\n",
       "      <td>1389467010615103492</td>\n",
       "      <td>https://twitter.com/MaaPera4/status/1389467010...</td>\n",
       "      <td>2021-05-04 06:28:45+00:00</td>\n",
       "      <td>Gdyby ktoś dał Wam napój do wypicia i powiedzi...</td>\n",
       "      <td>1281717847912321025</td>\n",
       "      <td>80</td>\n",
       "      <td>59</td>\n",
       "      <td>321</td>\n",
       "      <td>6</td>\n",
       "      <td>1389467010615103492</td>\n",
       "      <td>pl</td>\n",
       "      <td>http://twitter.com/download/android</td>\n",
       "      <td>Twitter for Android</td>\n",
       "      <td>None</td>\n",
       "      <td>NaN</td>\n",
       "      <td>None</td>\n",
       "      <td>NaN</td>\n",
       "      <td>-0.5</td>\n",
       "      <td>True</td>\n",
       "    </tr>\n",
       "    <tr>\n",
       "      <th>666502</th>\n",
       "      <td>1389353273115693056</td>\n",
       "      <td>https://twitter.com/Feniks82948212/status/1389...</td>\n",
       "      <td>2021-05-03 22:56:47+00:00</td>\n",
       "      <td>Przeszla COVID, przyjela \"szczepionki\" COVIDow...</td>\n",
       "      <td>1350100588219011073</td>\n",
       "      <td>12</td>\n",
       "      <td>95</td>\n",
       "      <td>103</td>\n",
       "      <td>4</td>\n",
       "      <td>1389353273115693056</td>\n",
       "      <td>pl</td>\n",
       "      <td>https://mobile.twitter.com</td>\n",
       "      <td>Twitter Web App</td>\n",
       "      <td>None</td>\n",
       "      <td>NaN</td>\n",
       "      <td>None</td>\n",
       "      <td>NaN</td>\n",
       "      <td>0.5</td>\n",
       "      <td>True</td>\n",
       "    </tr>\n",
       "  </tbody>\n",
       "</table>\n",
       "<p>666503 rows × 19 columns</p>\n",
       "</div>"
      ],
      "text/plain": [
       "                        _id  \\\n",
       "0       1366121799935746049   \n",
       "1       1366094731890069511   \n",
       "2       1366108573688856579   \n",
       "3       1366147063893925898   \n",
       "4       1366085125117730818   \n",
       "...                     ...   \n",
       "666498  1389309572041613312   \n",
       "666499  1388451951231242241   \n",
       "666500  1389497641071960064   \n",
       "666501  1389467010615103492   \n",
       "666502  1389353273115693056   \n",
       "\n",
       "                                                      url  \\\n",
       "0       https://twitter.com/tomaszbryjow/status/136612...   \n",
       "1       https://twitter.com/caspms/status/136609473189...   \n",
       "2       https://twitter.com/sta_____pawel/status/13661...   \n",
       "3       https://twitter.com/zybstar/status/13661470638...   \n",
       "4       https://twitter.com/kejtrouge/status/136608512...   \n",
       "...                                                   ...   \n",
       "666498  https://twitter.com/J_Janumir/status/138930957...   \n",
       "666499  https://twitter.com/MikeWolf9999/status/138845...   \n",
       "666500  https://twitter.com/PiotrWitczak7/status/13894...   \n",
       "666501  https://twitter.com/MaaPera4/status/1389467010...   \n",
       "666502  https://twitter.com/Feniks82948212/status/1389...   \n",
       "\n",
       "                            date  \\\n",
       "0      2021-02-28 20:23:13+00:00   \n",
       "1      2021-02-28 18:35:39+00:00   \n",
       "2      2021-02-28 19:30:39+00:00   \n",
       "3      2021-02-28 22:03:36+00:00   \n",
       "4      2021-02-28 17:57:29+00:00   \n",
       "...                          ...   \n",
       "666498 2021-05-03 20:03:08+00:00   \n",
       "666499 2021-05-01 11:15:16+00:00   \n",
       "666500 2021-05-04 08:30:27+00:00   \n",
       "666501 2021-05-04 06:28:45+00:00   \n",
       "666502 2021-05-03 22:56:47+00:00   \n",
       "\n",
       "                                                  content  \\\n",
       "0       AstraZeneca dziesiątkuje prywatne przedszkola....   \n",
       "1       Teściowa gorączkuje po szczepieniu Astrą Zenec...   \n",
       "2       @szejnfeld Dlaczego ta szczepionka wywołuje ta...   \n",
       "3       @tomaszbryjow Znajoma nauczycielka też ciężko ...   \n",
       "4       @sylvcz Pamietajmy, że jak ruszyły szczepienia...   \n",
       "...                                                   ...   \n",
       "666498  @GiertychRoman Palikot: \\n1 Kaczyński zaszczep...   \n",
       "666499  Konto wspierające Hołownie/PL2050 i dodatkowo ...   \n",
       "666500  Według danych WHO na COVID-19 przez rok trwani...   \n",
       "666501  Gdyby ktoś dał Wam napój do wypicia i powiedzi...   \n",
       "666502  Przeszla COVID, przyjela \"szczepionki\" COVIDow...   \n",
       "\n",
       "                       user  replyCount  retweetCount  likeCount  quoteCount  \\\n",
       "0       1257244746256441344          14            43        121           1   \n",
       "1       1231031338699980800           5             1         51           1   \n",
       "2                4107565035           0             0          1           0   \n",
       "3       1307288990664531969           1             0          2           0   \n",
       "4                1003546310           1             2         11           1   \n",
       "...                     ...         ...           ...        ...         ...   \n",
       "666498           1169956956           0             0          0           1   \n",
       "666499  1024005327665213440           2             5         15           1   \n",
       "666500  1331869827473027072           3            21         81           1   \n",
       "666501  1281717847912321025          80            59        321           6   \n",
       "666502  1350100588219011073          12            95        103           4   \n",
       "\n",
       "             conversationId lang                            sourceUrl  \\\n",
       "0       1366121799935746049   pl  http://twitter.com/download/android   \n",
       "1       1366094731890069511   pl  http://twitter.com/download/android   \n",
       "2       1366046249653325824   pl   http://twitter.com/download/iphone   \n",
       "3       1366121799935746049   pl           https://mobile.twitter.com   \n",
       "4       1366084298168819712   pl   http://twitter.com/download/iphone   \n",
       "...                     ...  ...                                  ...   \n",
       "666498  1389301312785981442   pl           https://mobile.twitter.com   \n",
       "666499  1388451951231242241   pl   http://twitter.com/download/iphone   \n",
       "666500  1389495137982722048   pl           https://mobile.twitter.com   \n",
       "666501  1389467010615103492   pl  http://twitter.com/download/android   \n",
       "666502  1389353273115693056   pl           https://mobile.twitter.com   \n",
       "\n",
       "                sourceLabel retweetedTweet  quotedTweet  \\\n",
       "0       Twitter for Android           None          NaN   \n",
       "1       Twitter for Android           None          NaN   \n",
       "2        Twitter for iPhone           None          NaN   \n",
       "3           Twitter Web App           None          NaN   \n",
       "4        Twitter for iPhone           None          NaN   \n",
       "...                     ...            ...          ...   \n",
       "666498      Twitter Web App           None          NaN   \n",
       "666499   Twitter for iPhone           None          NaN   \n",
       "666500      Twitter Web App           None          NaN   \n",
       "666501  Twitter for Android           None          NaN   \n",
       "666502      Twitter Web App           None          NaN   \n",
       "\n",
       "               mentionedUsers covid_topic  sentiment was_quotedTweet  \n",
       "0                        None        True        0.5             NaN  \n",
       "1                        None        True        0.0             NaN  \n",
       "2                 [535452316]        True        0.0             NaN  \n",
       "3       [1257244746256441344]        True       -0.5             NaN  \n",
       "4                 [101564798]        True        1.5             NaN  \n",
       "...                       ...         ...        ...             ...  \n",
       "666498           [2919694493]         NaN        0.0            True  \n",
       "666499                   None         NaN        0.5            True  \n",
       "666500                   None         NaN       -1.0            True  \n",
       "666501                   None         NaN       -0.5            True  \n",
       "666502                   None         NaN        0.5            True  \n",
       "\n",
       "[666503 rows x 19 columns]"
      ]
     },
     "execution_count": 46,
     "metadata": {},
     "output_type": "execute_result"
    }
   ],
   "source": [
    "df = pd.DataFrame(tweets)\n",
    "df[\"sentiment\"] = pd.to_numeric(df[\"sentiment\"])\n",
    "df.date = pd.to_datetime(df.date)\n",
    "df"
   ]
  },
  {
   "cell_type": "code",
   "execution_count": 48,
   "id": "delayed-mineral",
   "metadata": {},
   "outputs": [],
   "source": [
    "df_with_covid_topic = df[df['covid_topic'] == True]\n",
    "df_with_covid_topic"
   ]
  },
  {
   "cell_type": "code",
   "execution_count": 50,
   "id": "macro-bryan",
   "metadata": {},
   "outputs": [],
   "source": [
    "minimal = df_with_covid_topic.loc[df_with_covid_topic.groupby('conversationId')['date'].idxmin()]\n",
    "minimal = minimal.loc[minimal['_id'] == minimal['conversationId']][['_id', 'conversationId', 'sentiment', 'date']]\n",
    "minimal = minimal.rename(columns={'date': 'minimalDate', '_id': 'minimalId'})"
   ]
  },
  {
   "cell_type": "code",
   "execution_count": 51,
   "id": "comparative-franchise",
   "metadata": {},
   "outputs": [
    {
     "data": {
      "text/html": [
       "<div>\n",
       "<style scoped>\n",
       "    .dataframe tbody tr th:only-of-type {\n",
       "        vertical-align: middle;\n",
       "    }\n",
       "\n",
       "    .dataframe tbody tr th {\n",
       "        vertical-align: top;\n",
       "    }\n",
       "\n",
       "    .dataframe thead th {\n",
       "        text-align: right;\n",
       "    }\n",
       "</style>\n",
       "<table border=\"1\" class=\"dataframe\">\n",
       "  <thead>\n",
       "    <tr style=\"text-align: right;\">\n",
       "      <th></th>\n",
       "      <th>minimalId</th>\n",
       "      <th>conversationId</th>\n",
       "      <th>sentiment</th>\n",
       "      <th>minimalDate</th>\n",
       "    </tr>\n",
       "  </thead>\n",
       "  <tbody>\n",
       "    <tr>\n",
       "      <th>14072</th>\n",
       "      <td>1356032073555914753</td>\n",
       "      <td>1356032073555914753</td>\n",
       "      <td>0.0</td>\n",
       "      <td>2021-02-01 00:10:14+00:00</td>\n",
       "    </tr>\n",
       "    <tr>\n",
       "      <th>3698</th>\n",
       "      <td>1356039602533003266</td>\n",
       "      <td>1356039602533003266</td>\n",
       "      <td>0.0</td>\n",
       "      <td>2021-02-01 00:40:09+00:00</td>\n",
       "    </tr>\n",
       "    <tr>\n",
       "      <th>41071</th>\n",
       "      <td>1356040018683453442</td>\n",
       "      <td>1356040018683453442</td>\n",
       "      <td>0.0</td>\n",
       "      <td>2021-02-01 00:41:49+00:00</td>\n",
       "    </tr>\n",
       "    <tr>\n",
       "      <th>14071</th>\n",
       "      <td>1356040505973501959</td>\n",
       "      <td>1356040505973501959</td>\n",
       "      <td>-0.5</td>\n",
       "      <td>2021-02-01 00:43:45+00:00</td>\n",
       "    </tr>\n",
       "    <tr>\n",
       "      <th>23452</th>\n",
       "      <td>1356051673488228352</td>\n",
       "      <td>1356051673488228352</td>\n",
       "      <td>0.0</td>\n",
       "      <td>2021-02-01 01:28:07+00:00</td>\n",
       "    </tr>\n",
       "    <tr>\n",
       "      <th>...</th>\n",
       "      <td>...</td>\n",
       "      <td>...</td>\n",
       "      <td>...</td>\n",
       "      <td>...</td>\n",
       "    </tr>\n",
       "    <tr>\n",
       "      <th>581522</th>\n",
       "      <td>1396069832710311945</td>\n",
       "      <td>1396069832710311945</td>\n",
       "      <td>1.5</td>\n",
       "      <td>2021-05-22 11:46:00+00:00</td>\n",
       "    </tr>\n",
       "    <tr>\n",
       "      <th>581521</th>\n",
       "      <td>1396071073502859273</td>\n",
       "      <td>1396071073502859273</td>\n",
       "      <td>-0.5</td>\n",
       "      <td>2021-05-22 11:50:56+00:00</td>\n",
       "    </tr>\n",
       "    <tr>\n",
       "      <th>638520</th>\n",
       "      <td>1396071491964375042</td>\n",
       "      <td>1396071491964375042</td>\n",
       "      <td>0.5</td>\n",
       "      <td>2021-05-22 11:52:36+00:00</td>\n",
       "    </tr>\n",
       "    <tr>\n",
       "      <th>581519</th>\n",
       "      <td>1396071643181690881</td>\n",
       "      <td>1396071643181690881</td>\n",
       "      <td>-1.0</td>\n",
       "      <td>2021-05-22 11:53:12+00:00</td>\n",
       "    </tr>\n",
       "    <tr>\n",
       "      <th>581517</th>\n",
       "      <td>1396072129943199746</td>\n",
       "      <td>1396072129943199746</td>\n",
       "      <td>0.5</td>\n",
       "      <td>2021-05-22 11:55:08+00:00</td>\n",
       "    </tr>\n",
       "  </tbody>\n",
       "</table>\n",
       "<p>109266 rows × 4 columns</p>\n",
       "</div>"
      ],
      "text/plain": [
       "                  minimalId       conversationId  sentiment  \\\n",
       "14072   1356032073555914753  1356032073555914753        0.0   \n",
       "3698    1356039602533003266  1356039602533003266        0.0   \n",
       "41071   1356040018683453442  1356040018683453442        0.0   \n",
       "14071   1356040505973501959  1356040505973501959       -0.5   \n",
       "23452   1356051673488228352  1356051673488228352        0.0   \n",
       "...                     ...                  ...        ...   \n",
       "581522  1396069832710311945  1396069832710311945        1.5   \n",
       "581521  1396071073502859273  1396071073502859273       -0.5   \n",
       "638520  1396071491964375042  1396071491964375042        0.5   \n",
       "581519  1396071643181690881  1396071643181690881       -1.0   \n",
       "581517  1396072129943199746  1396072129943199746        0.5   \n",
       "\n",
       "                     minimalDate  \n",
       "14072  2021-02-01 00:10:14+00:00  \n",
       "3698   2021-02-01 00:40:09+00:00  \n",
       "41071  2021-02-01 00:41:49+00:00  \n",
       "14071  2021-02-01 00:43:45+00:00  \n",
       "23452  2021-02-01 01:28:07+00:00  \n",
       "...                          ...  \n",
       "581522 2021-05-22 11:46:00+00:00  \n",
       "581521 2021-05-22 11:50:56+00:00  \n",
       "638520 2021-05-22 11:52:36+00:00  \n",
       "581519 2021-05-22 11:53:12+00:00  \n",
       "581517 2021-05-22 11:55:08+00:00  \n",
       "\n",
       "[109266 rows x 4 columns]"
      ]
     },
     "execution_count": 51,
     "metadata": {},
     "output_type": "execute_result"
    }
   ],
   "source": [
    "minimal"
   ]
  },
  {
   "cell_type": "code",
   "execution_count": 52,
   "id": "prerequisite-start",
   "metadata": {},
   "outputs": [],
   "source": [
    "maximal = df_with_covid_topic.loc[df_with_covid_topic.groupby('conversationId')['date'].idxmax()]\n",
    "maximal = maximal[['conversationId', 'date']].rename(columns={'date': 'maximalDate'})"
   ]
  },
  {
   "cell_type": "code",
   "execution_count": 53,
   "id": "disabled-affair",
   "metadata": {},
   "outputs": [
    {
     "data": {
      "text/html": [
       "<div>\n",
       "<style scoped>\n",
       "    .dataframe tbody tr th:only-of-type {\n",
       "        vertical-align: middle;\n",
       "    }\n",
       "\n",
       "    .dataframe tbody tr th {\n",
       "        vertical-align: top;\n",
       "    }\n",
       "\n",
       "    .dataframe thead th {\n",
       "        text-align: right;\n",
       "    }\n",
       "</style>\n",
       "<table border=\"1\" class=\"dataframe\">\n",
       "  <thead>\n",
       "    <tr style=\"text-align: right;\">\n",
       "      <th></th>\n",
       "      <th>conversationId</th>\n",
       "      <th>maximalDate</th>\n",
       "    </tr>\n",
       "  </thead>\n",
       "  <tbody>\n",
       "    <tr>\n",
       "      <th>163443</th>\n",
       "      <td>11788902058</td>\n",
       "      <td>2021-04-05 06:30:34+00:00</td>\n",
       "    </tr>\n",
       "    <tr>\n",
       "      <th>631858</th>\n",
       "      <td>779780151747944449</td>\n",
       "      <td>2021-05-12 04:17:13+00:00</td>\n",
       "    </tr>\n",
       "    <tr>\n",
       "      <th>5038</th>\n",
       "      <td>865259741118967810</td>\n",
       "      <td>2021-02-10 22:47:52+00:00</td>\n",
       "    </tr>\n",
       "    <tr>\n",
       "      <th>151178</th>\n",
       "      <td>947834646879813632</td>\n",
       "      <td>2021-04-18 15:32:03+00:00</td>\n",
       "    </tr>\n",
       "    <tr>\n",
       "      <th>597125</th>\n",
       "      <td>948666715323461633</td>\n",
       "      <td>2021-05-02 20:17:11+00:00</td>\n",
       "    </tr>\n",
       "    <tr>\n",
       "      <th>...</th>\n",
       "      <td>...</td>\n",
       "      <td>...</td>\n",
       "    </tr>\n",
       "    <tr>\n",
       "      <th>559481</th>\n",
       "      <td>1396070454146838531</td>\n",
       "      <td>2021-05-22 11:58:36+00:00</td>\n",
       "    </tr>\n",
       "    <tr>\n",
       "      <th>581521</th>\n",
       "      <td>1396071073502859273</td>\n",
       "      <td>2021-05-22 11:50:56+00:00</td>\n",
       "    </tr>\n",
       "    <tr>\n",
       "      <th>638520</th>\n",
       "      <td>1396071491964375042</td>\n",
       "      <td>2021-05-22 11:52:36+00:00</td>\n",
       "    </tr>\n",
       "    <tr>\n",
       "      <th>581519</th>\n",
       "      <td>1396071643181690881</td>\n",
       "      <td>2021-05-22 11:53:12+00:00</td>\n",
       "    </tr>\n",
       "    <tr>\n",
       "      <th>581517</th>\n",
       "      <td>1396072129943199746</td>\n",
       "      <td>2021-05-22 11:55:08+00:00</td>\n",
       "    </tr>\n",
       "  </tbody>\n",
       "</table>\n",
       "<p>159546 rows × 2 columns</p>\n",
       "</div>"
      ],
      "text/plain": [
       "             conversationId               maximalDate\n",
       "163443          11788902058 2021-04-05 06:30:34+00:00\n",
       "631858   779780151747944449 2021-05-12 04:17:13+00:00\n",
       "5038     865259741118967810 2021-02-10 22:47:52+00:00\n",
       "151178   947834646879813632 2021-04-18 15:32:03+00:00\n",
       "597125   948666715323461633 2021-05-02 20:17:11+00:00\n",
       "...                     ...                       ...\n",
       "559481  1396070454146838531 2021-05-22 11:58:36+00:00\n",
       "581521  1396071073502859273 2021-05-22 11:50:56+00:00\n",
       "638520  1396071491964375042 2021-05-22 11:52:36+00:00\n",
       "581519  1396071643181690881 2021-05-22 11:53:12+00:00\n",
       "581517  1396072129943199746 2021-05-22 11:55:08+00:00\n",
       "\n",
       "[159546 rows x 2 columns]"
      ]
     },
     "execution_count": 53,
     "metadata": {},
     "output_type": "execute_result"
    }
   ],
   "source": [
    "maximal"
   ]
  },
  {
   "cell_type": "code",
   "execution_count": 55,
   "id": "coupled-october",
   "metadata": {},
   "outputs": [],
   "source": [
    "merged = pd.merge(minimal, maximal, on='conversationId')"
   ]
  },
  {
   "cell_type": "code",
   "execution_count": 56,
   "id": "systematic-entrepreneur",
   "metadata": {},
   "outputs": [],
   "source": [
    "merged['dateDiff'] = merged['maximalDate'] - merged['minimalDate']"
   ]
  },
  {
   "cell_type": "code",
   "execution_count": 57,
   "id": "dependent-diagram",
   "metadata": {},
   "outputs": [
    {
     "data": {
      "text/html": [
       "<div>\n",
       "<style scoped>\n",
       "    .dataframe tbody tr th:only-of-type {\n",
       "        vertical-align: middle;\n",
       "    }\n",
       "\n",
       "    .dataframe tbody tr th {\n",
       "        vertical-align: top;\n",
       "    }\n",
       "\n",
       "    .dataframe thead th {\n",
       "        text-align: right;\n",
       "    }\n",
       "</style>\n",
       "<table border=\"1\" class=\"dataframe\">\n",
       "  <thead>\n",
       "    <tr style=\"text-align: right;\">\n",
       "      <th></th>\n",
       "      <th>minimalId</th>\n",
       "      <th>conversationId</th>\n",
       "      <th>sentiment</th>\n",
       "      <th>minimalDate</th>\n",
       "      <th>maximalDate</th>\n",
       "      <th>dateDiff</th>\n",
       "    </tr>\n",
       "  </thead>\n",
       "  <tbody>\n",
       "    <tr>\n",
       "      <th>475</th>\n",
       "      <td>1356252057766940672</td>\n",
       "      <td>1356252057766940672</td>\n",
       "      <td>2.0</td>\n",
       "      <td>2021-02-01 14:44:23+00:00</td>\n",
       "      <td>2021-05-15 20:36:46+00:00</td>\n",
       "      <td>103 days 05:52:23</td>\n",
       "    </tr>\n",
       "    <tr>\n",
       "      <th>1523</th>\n",
       "      <td>1356642659771830276</td>\n",
       "      <td>1356642659771830276</td>\n",
       "      <td>0.5</td>\n",
       "      <td>2021-02-02 16:36:29+00:00</td>\n",
       "      <td>2021-04-20 14:54:42+00:00</td>\n",
       "      <td>76 days 22:18:13</td>\n",
       "    </tr>\n",
       "    <tr>\n",
       "      <th>1593</th>\n",
       "      <td>1356659658644217858</td>\n",
       "      <td>1356659658644217858</td>\n",
       "      <td>2.0</td>\n",
       "      <td>2021-02-02 17:44:02+00:00</td>\n",
       "      <td>2021-04-20 10:05:21+00:00</td>\n",
       "      <td>76 days 16:21:19</td>\n",
       "    </tr>\n",
       "    <tr>\n",
       "      <th>1948</th>\n",
       "      <td>1356878386459783168</td>\n",
       "      <td>1356878386459783168</td>\n",
       "      <td>1.0</td>\n",
       "      <td>2021-02-03 08:13:11+00:00</td>\n",
       "      <td>2021-04-18 22:34:03+00:00</td>\n",
       "      <td>74 days 14:20:52</td>\n",
       "    </tr>\n",
       "    <tr>\n",
       "      <th>18954</th>\n",
       "      <td>1367411992479346689</td>\n",
       "      <td>1367411992479346689</td>\n",
       "      <td>-1.5</td>\n",
       "      <td>2021-03-04 09:49:58+00:00</td>\n",
       "      <td>2021-05-14 11:55:15+00:00</td>\n",
       "      <td>71 days 02:05:17</td>\n",
       "    </tr>\n",
       "    <tr>\n",
       "      <th>...</th>\n",
       "      <td>...</td>\n",
       "      <td>...</td>\n",
       "      <td>...</td>\n",
       "      <td>...</td>\n",
       "      <td>...</td>\n",
       "      <td>...</td>\n",
       "    </tr>\n",
       "    <tr>\n",
       "      <th>39305</th>\n",
       "      <td>1376058728819138560</td>\n",
       "      <td>1376058728819138560</td>\n",
       "      <td>-0.5</td>\n",
       "      <td>2021-03-28 06:29:01+00:00</td>\n",
       "      <td>2021-03-28 06:29:01+00:00</td>\n",
       "      <td>0 days 00:00:00</td>\n",
       "    </tr>\n",
       "    <tr>\n",
       "      <th>39304</th>\n",
       "      <td>1376058720451489796</td>\n",
       "      <td>1376058720451489796</td>\n",
       "      <td>-0.5</td>\n",
       "      <td>2021-03-28 06:28:59+00:00</td>\n",
       "      <td>2021-03-28 06:28:59+00:00</td>\n",
       "      <td>0 days 00:00:00</td>\n",
       "    </tr>\n",
       "    <tr>\n",
       "      <th>39303</th>\n",
       "      <td>1376058702801801218</td>\n",
       "      <td>1376058702801801218</td>\n",
       "      <td>-0.5</td>\n",
       "      <td>2021-03-28 06:28:55+00:00</td>\n",
       "      <td>2021-03-28 06:28:55+00:00</td>\n",
       "      <td>0 days 00:00:00</td>\n",
       "    </tr>\n",
       "    <tr>\n",
       "      <th>39302</th>\n",
       "      <td>1376056613874851840</td>\n",
       "      <td>1376056613874851840</td>\n",
       "      <td>0.0</td>\n",
       "      <td>2021-03-28 06:20:37+00:00</td>\n",
       "      <td>2021-03-28 06:20:37+00:00</td>\n",
       "      <td>0 days 00:00:00</td>\n",
       "    </tr>\n",
       "    <tr>\n",
       "      <th>109265</th>\n",
       "      <td>1396072129943199746</td>\n",
       "      <td>1396072129943199746</td>\n",
       "      <td>0.5</td>\n",
       "      <td>2021-05-22 11:55:08+00:00</td>\n",
       "      <td>2021-05-22 11:55:08+00:00</td>\n",
       "      <td>0 days 00:00:00</td>\n",
       "    </tr>\n",
       "  </tbody>\n",
       "</table>\n",
       "<p>109266 rows × 6 columns</p>\n",
       "</div>"
      ],
      "text/plain": [
       "                  minimalId       conversationId  sentiment  \\\n",
       "475     1356252057766940672  1356252057766940672        2.0   \n",
       "1523    1356642659771830276  1356642659771830276        0.5   \n",
       "1593    1356659658644217858  1356659658644217858        2.0   \n",
       "1948    1356878386459783168  1356878386459783168        1.0   \n",
       "18954   1367411992479346689  1367411992479346689       -1.5   \n",
       "...                     ...                  ...        ...   \n",
       "39305   1376058728819138560  1376058728819138560       -0.5   \n",
       "39304   1376058720451489796  1376058720451489796       -0.5   \n",
       "39303   1376058702801801218  1376058702801801218       -0.5   \n",
       "39302   1376056613874851840  1376056613874851840        0.0   \n",
       "109265  1396072129943199746  1396072129943199746        0.5   \n",
       "\n",
       "                     minimalDate               maximalDate          dateDiff  \n",
       "475    2021-02-01 14:44:23+00:00 2021-05-15 20:36:46+00:00 103 days 05:52:23  \n",
       "1523   2021-02-02 16:36:29+00:00 2021-04-20 14:54:42+00:00  76 days 22:18:13  \n",
       "1593   2021-02-02 17:44:02+00:00 2021-04-20 10:05:21+00:00  76 days 16:21:19  \n",
       "1948   2021-02-03 08:13:11+00:00 2021-04-18 22:34:03+00:00  74 days 14:20:52  \n",
       "18954  2021-03-04 09:49:58+00:00 2021-05-14 11:55:15+00:00  71 days 02:05:17  \n",
       "...                          ...                       ...               ...  \n",
       "39305  2021-03-28 06:29:01+00:00 2021-03-28 06:29:01+00:00   0 days 00:00:00  \n",
       "39304  2021-03-28 06:28:59+00:00 2021-03-28 06:28:59+00:00   0 days 00:00:00  \n",
       "39303  2021-03-28 06:28:55+00:00 2021-03-28 06:28:55+00:00   0 days 00:00:00  \n",
       "39302  2021-03-28 06:20:37+00:00 2021-03-28 06:20:37+00:00   0 days 00:00:00  \n",
       "109265 2021-05-22 11:55:08+00:00 2021-05-22 11:55:08+00:00   0 days 00:00:00  \n",
       "\n",
       "[109266 rows x 6 columns]"
      ]
     },
     "execution_count": 57,
     "metadata": {},
     "output_type": "execute_result"
    }
   ],
   "source": [
    "merged.sort_values(by=['dateDiff'], ascending=False)"
   ]
  },
  {
   "cell_type": "code",
   "execution_count": 58,
   "id": "organizational-earthquake",
   "metadata": {},
   "outputs": [],
   "source": [
    "bins = [\n",
    "    pd.Timedelta(\"nan\"),\n",
    "    pd.Timedelta(minutes = 1),\n",
    "    pd.Timedelta(minutes = 60),\n",
    "    pd.Timedelta(days = 1),\n",
    "    pd.Timedelta(days = 2),\n",
    "    pd.Timedelta(days = 3),\n",
    "    pd.Timedelta(days = 7),\n",
    "    pd.Timedelta(days = 14),\n",
    "    pd.Timedelta(days = 30),\n",
    "    pd.Timedelta(weeks = 2000)\n",
    "]\n",
    "labels = ['0-1 min', '1-60 min', '60 min-1 day', '1-2 days', '2-3 days', '3-7 days', '7-14 days', \n",
    "          '14-30 days', '30+ days']"
   ]
  },
  {
   "cell_type": "code",
   "execution_count": 59,
   "id": "professional-studio",
   "metadata": {},
   "outputs": [],
   "source": [
    "merged['bins'] = pd.cut(merged['dateDiff'], bins, labels = labels)"
   ]
  },
  {
   "cell_type": "code",
   "execution_count": 63,
   "id": "damaged-hebrew",
   "metadata": {},
   "outputs": [
    {
     "data": {
      "text/plain": [
       "<AxesSubplot:title={'center':'Zywotność tweetów'}, xlabel='bins'>"
      ]
     },
     "execution_count": 63,
     "metadata": {},
     "output_type": "execute_result"
    },
    {
     "data": {
      "image/png": "[encoded data removed]",
      "text/plain": [
       "<Figure size 432x288 with 1 Axes>"
      ]
     },
     "metadata": {
      "needs_background": "light"
     },
     "output_type": "display_data"
    }
   ],
   "source": [
    "all_grouped = merged.groupby('bins').count()\n",
    "all_grouped.reset_index().plot.bar(x='bins', y='minimalId', title = \"Zywotność tweetów\", legend = False)"
   ]
  },
  {
   "cell_type": "code",
   "execution_count": 60,
   "id": "impressive-distance",
   "metadata": {},
   "outputs": [
    {
     "data": {
      "text/plain": [
       "<AxesSubplot:title={'center':'Zywotność tweetów z pozytywnym sentymentem (powyżej 0)'}, xlabel='bins'>"
      ]
     },
     "execution_count": 60,
     "metadata": {},
     "output_type": "execute_result"
    },
    {
     "data": {
      "image/png": "[encoded data removed]",
      "text/plain": [
       "<Figure size 432x288 with 1 Axes>"
      ]
     },
     "metadata": {
      "needs_background": "light"
     },
     "output_type": "display_data"
    }
   ],
   "source": [
    "positive_grouped = merged[merged['sentiment'] > 0].groupby('bins').count()\n",
    "positive_grouped.reset_index().plot.bar(x='bins', y='minimalId', title = \"Zywotność tweetów z pozytywnym sentymentem (powyżej 0)\", legend = False)"
   ]
  },
  {
   "cell_type": "code",
   "execution_count": 61,
   "id": "eight-portable",
   "metadata": {},
   "outputs": [
    {
     "data": {
      "text/plain": [
       "<AxesSubplot:title={'center':'Zywotność tweetów z negatywnym sentymentem (poniżej 0)'}, xlabel='bins'>"
      ]
     },
     "execution_count": 61,
     "metadata": {},
     "output_type": "execute_result"
    },
    {
     "data": {
      "image/png": "[encoded data removed]",
      "text/plain": [
       "<Figure size 432x288 with 1 Axes>"
      ]
     },
     "metadata": {
      "needs_background": "light"
     },
     "output_type": "display_data"
    }
   ],
   "source": [
    "negative_grouped = merged[merged['sentiment'] < 0].groupby('bins').count()\n",
    "negative_grouped.reset_index().plot.bar(x='bins', y='minimalId', title = \"Zywotność tweetów z negatywnym sentymentem (poniżej 0)\", legend = False)"
   ]
  },
  {
   "cell_type": "code",
   "execution_count": 62,
   "id": "partial-clinton",
   "metadata": {},
   "outputs": [
    {
     "data": {
      "text/plain": [
       "<AxesSubplot:title={'center':'Zywotność tweetów z neutralnym sentymentem (równym 0)'}, xlabel='bins'>"
      ]
     },
     "execution_count": 62,
     "metadata": {},
     "output_type": "execute_result"
    },
    {
     "data": {
      "image/png": "[encoded data removed]",
      "text/plain": [
       "<Figure size 432x288 with 1 Axes>"
      ]
     },
     "metadata": {
      "needs_background": "light"
     },
     "output_type": "display_data"
    }
   ],
   "source": [
    "neutral_grouped =  merged[merged['sentiment'] == 0].groupby('bins').count()\n",
    "neutral_grouped.reset_index().plot.bar(x='bins', y='minimalId', title = \"Zywotność tweetów z neutralnym sentymentem (równym 0)\", legend = False)"
   ]
  },
  {
   "cell_type": "code",
   "execution_count": 64,
   "id": "narrow-conservation",
   "metadata": {
    "scrolled": true
   },
   "outputs": [
    {
     "data": {
      "text/html": [
       "<div>\n",
       "<style scoped>\n",
       "    .dataframe tbody tr th:only-of-type {\n",
       "        vertical-align: middle;\n",
       "    }\n",
       "\n",
       "    .dataframe tbody tr th {\n",
       "        vertical-align: top;\n",
       "    }\n",
       "\n",
       "    .dataframe thead th {\n",
       "        text-align: right;\n",
       "    }\n",
       "</style>\n",
       "<table border=\"1\" class=\"dataframe\">\n",
       "  <thead>\n",
       "    <tr style=\"text-align: right;\">\n",
       "      <th></th>\n",
       "      <th>minimalId</th>\n",
       "      <th>conversationId</th>\n",
       "      <th>sentiment</th>\n",
       "      <th>minimalDate</th>\n",
       "      <th>maximalDate</th>\n",
       "      <th>dateDiff</th>\n",
       "    </tr>\n",
       "    <tr>\n",
       "      <th>bins</th>\n",
       "      <th></th>\n",
       "      <th></th>\n",
       "      <th></th>\n",
       "      <th></th>\n",
       "      <th></th>\n",
       "      <th></th>\n",
       "    </tr>\n",
       "  </thead>\n",
       "  <tbody>\n",
       "    <tr>\n",
       "      <th>0-1 min</th>\n",
       "      <td>91311</td>\n",
       "      <td>91311</td>\n",
       "      <td>91311</td>\n",
       "      <td>91311</td>\n",
       "      <td>91311</td>\n",
       "      <td>91311</td>\n",
       "    </tr>\n",
       "    <tr>\n",
       "      <th>1-60 min</th>\n",
       "      <td>6832</td>\n",
       "      <td>6832</td>\n",
       "      <td>6832</td>\n",
       "      <td>6832</td>\n",
       "      <td>6832</td>\n",
       "      <td>6832</td>\n",
       "    </tr>\n",
       "    <tr>\n",
       "      <th>60 min-1 day</th>\n",
       "      <td>8974</td>\n",
       "      <td>8974</td>\n",
       "      <td>8974</td>\n",
       "      <td>8974</td>\n",
       "      <td>8974</td>\n",
       "      <td>8974</td>\n",
       "    </tr>\n",
       "    <tr>\n",
       "      <th>1-2 days</th>\n",
       "      <td>1133</td>\n",
       "      <td>1133</td>\n",
       "      <td>1133</td>\n",
       "      <td>1133</td>\n",
       "      <td>1133</td>\n",
       "      <td>1133</td>\n",
       "    </tr>\n",
       "    <tr>\n",
       "      <th>2-3 days</th>\n",
       "      <td>368</td>\n",
       "      <td>368</td>\n",
       "      <td>368</td>\n",
       "      <td>368</td>\n",
       "      <td>368</td>\n",
       "      <td>368</td>\n",
       "    </tr>\n",
       "    <tr>\n",
       "      <th>3-7 days</th>\n",
       "      <td>438</td>\n",
       "      <td>438</td>\n",
       "      <td>438</td>\n",
       "      <td>438</td>\n",
       "      <td>438</td>\n",
       "      <td>438</td>\n",
       "    </tr>\n",
       "    <tr>\n",
       "      <th>7-14 days</th>\n",
       "      <td>131</td>\n",
       "      <td>131</td>\n",
       "      <td>131</td>\n",
       "      <td>131</td>\n",
       "      <td>131</td>\n",
       "      <td>131</td>\n",
       "    </tr>\n",
       "    <tr>\n",
       "      <th>14-30 days</th>\n",
       "      <td>50</td>\n",
       "      <td>50</td>\n",
       "      <td>50</td>\n",
       "      <td>50</td>\n",
       "      <td>50</td>\n",
       "      <td>50</td>\n",
       "    </tr>\n",
       "    <tr>\n",
       "      <th>30+ days</th>\n",
       "      <td>29</td>\n",
       "      <td>29</td>\n",
       "      <td>29</td>\n",
       "      <td>29</td>\n",
       "      <td>29</td>\n",
       "      <td>29</td>\n",
       "    </tr>\n",
       "  </tbody>\n",
       "</table>\n",
       "</div>"
      ],
      "text/plain": [
       "              minimalId  conversationId  sentiment  minimalDate  maximalDate  \\\n",
       "bins                                                                           \n",
       "0-1 min           91311           91311      91311        91311        91311   \n",
       "1-60 min           6832            6832       6832         6832         6832   \n",
       "60 min-1 day       8974            8974       8974         8974         8974   \n",
       "1-2 days           1133            1133       1133         1133         1133   \n",
       "2-3 days            368             368        368          368          368   \n",
       "3-7 days            438             438        438          438          438   \n",
       "7-14 days           131             131        131          131          131   \n",
       "14-30 days           50              50         50           50           50   \n",
       "30+ days             29              29         29           29           29   \n",
       "\n",
       "              dateDiff  \n",
       "bins                    \n",
       "0-1 min          91311  \n",
       "1-60 min          6832  \n",
       "60 min-1 day      8974  \n",
       "1-2 days          1133  \n",
       "2-3 days           368  \n",
       "3-7 days           438  \n",
       "7-14 days          131  \n",
       "14-30 days          50  \n",
       "30+ days            29  "
      ]
     },
     "execution_count": 64,
     "metadata": {},
     "output_type": "execute_result"
    }
   ],
   "source": [
    "grouped = merged.groupby('bins').count()\n",
    "grouped"
   ]
  },
  {
   "cell_type": "code",
   "execution_count": 65,
   "id": "severe-strengthening",
   "metadata": {},
   "outputs": [
    {
     "data": {
      "text/html": [
       "<div>\n",
       "<style scoped>\n",
       "    .dataframe tbody tr th:only-of-type {\n",
       "        vertical-align: middle;\n",
       "    }\n",
       "\n",
       "    .dataframe tbody tr th {\n",
       "        vertical-align: top;\n",
       "    }\n",
       "\n",
       "    .dataframe thead th {\n",
       "        text-align: right;\n",
       "    }\n",
       "</style>\n",
       "<table border=\"1\" class=\"dataframe\">\n",
       "  <thead>\n",
       "    <tr style=\"text-align: right;\">\n",
       "      <th></th>\n",
       "      <th>minimalId</th>\n",
       "      <th>conversationId</th>\n",
       "      <th>sentiment</th>\n",
       "      <th>minimalDate</th>\n",
       "      <th>maximalDate</th>\n",
       "      <th>dateDiff</th>\n",
       "      <th>bins</th>\n",
       "    </tr>\n",
       "  </thead>\n",
       "  <tbody>\n",
       "    <tr>\n",
       "      <th>1523</th>\n",
       "      <td>1356642659771830276</td>\n",
       "      <td>1356642659771830276</td>\n",
       "      <td>0.5</td>\n",
       "      <td>2021-02-02 16:36:29+00:00</td>\n",
       "      <td>2021-04-20 14:54:42+00:00</td>\n",
       "      <td>76 days 22:18:13</td>\n",
       "      <td>30+ days</td>\n",
       "    </tr>\n",
       "    <tr>\n",
       "      <th>8203</th>\n",
       "      <td>1360634926790545412</td>\n",
       "      <td>1360634926790545412</td>\n",
       "      <td>0.0</td>\n",
       "      <td>2021-02-13 17:00:20+00:00</td>\n",
       "      <td>2021-04-18 19:25:41+00:00</td>\n",
       "      <td>64 days 02:25:21</td>\n",
       "      <td>30+ days</td>\n",
       "    </tr>\n",
       "    <tr>\n",
       "      <th>16177</th>\n",
       "      <td>1366044069311500289</td>\n",
       "      <td>1366044069311500289</td>\n",
       "      <td>0.5</td>\n",
       "      <td>2021-02-28 15:14:20+00:00</td>\n",
       "      <td>2021-04-29 10:37:10+00:00</td>\n",
       "      <td>59 days 19:22:50</td>\n",
       "      <td>30+ days</td>\n",
       "    </tr>\n",
       "    <tr>\n",
       "      <th>21992</th>\n",
       "      <td>1369303845726261258</td>\n",
       "      <td>1369303845726261258</td>\n",
       "      <td>-0.5</td>\n",
       "      <td>2021-03-09 15:07:31+00:00</td>\n",
       "      <td>2021-04-23 13:31:45+00:00</td>\n",
       "      <td>44 days 22:24:14</td>\n",
       "      <td>30+ days</td>\n",
       "    </tr>\n",
       "    <tr>\n",
       "      <th>20531</th>\n",
       "      <td>1368165193151307778</td>\n",
       "      <td>1368165193151307778</td>\n",
       "      <td>0.5</td>\n",
       "      <td>2021-03-06 11:42:55+00:00</td>\n",
       "      <td>2021-04-17 21:10:29+00:00</td>\n",
       "      <td>42 days 09:27:34</td>\n",
       "      <td>30+ days</td>\n",
       "    </tr>\n",
       "    <tr>\n",
       "      <th>...</th>\n",
       "      <td>...</td>\n",
       "      <td>...</td>\n",
       "      <td>...</td>\n",
       "      <td>...</td>\n",
       "      <td>...</td>\n",
       "      <td>...</td>\n",
       "      <td>...</td>\n",
       "    </tr>\n",
       "    <tr>\n",
       "      <th>39560</th>\n",
       "      <td>1376224043637080068</td>\n",
       "      <td>1376224043637080068</td>\n",
       "      <td>0.0</td>\n",
       "      <td>2021-03-28 17:25:55+00:00</td>\n",
       "      <td>2021-03-28 17:25:55+00:00</td>\n",
       "      <td>0 days 00:00:00</td>\n",
       "      <td>0-1 min</td>\n",
       "    </tr>\n",
       "    <tr>\n",
       "      <th>39562</th>\n",
       "      <td>1376225166552924160</td>\n",
       "      <td>1376225166552924160</td>\n",
       "      <td>0.5</td>\n",
       "      <td>2021-03-28 17:30:23+00:00</td>\n",
       "      <td>2021-03-28 17:30:23+00:00</td>\n",
       "      <td>0 days 00:00:00</td>\n",
       "      <td>0-1 min</td>\n",
       "    </tr>\n",
       "    <tr>\n",
       "      <th>39564</th>\n",
       "      <td>1376226464421584901</td>\n",
       "      <td>1376226464421584901</td>\n",
       "      <td>0.0</td>\n",
       "      <td>2021-03-28 17:35:32+00:00</td>\n",
       "      <td>2021-03-28 17:35:32+00:00</td>\n",
       "      <td>0 days 00:00:00</td>\n",
       "      <td>0-1 min</td>\n",
       "    </tr>\n",
       "    <tr>\n",
       "      <th>39567</th>\n",
       "      <td>1376233309060136965</td>\n",
       "      <td>1376233309060136965</td>\n",
       "      <td>0.0</td>\n",
       "      <td>2021-03-28 18:02:44+00:00</td>\n",
       "      <td>2021-03-28 18:02:44+00:00</td>\n",
       "      <td>0 days 00:00:00</td>\n",
       "      <td>0-1 min</td>\n",
       "    </tr>\n",
       "    <tr>\n",
       "      <th>109265</th>\n",
       "      <td>1396072129943199746</td>\n",
       "      <td>1396072129943199746</td>\n",
       "      <td>0.5</td>\n",
       "      <td>2021-05-22 11:55:08+00:00</td>\n",
       "      <td>2021-05-22 11:55:08+00:00</td>\n",
       "      <td>0 days 00:00:00</td>\n",
       "      <td>0-1 min</td>\n",
       "    </tr>\n",
       "  </tbody>\n",
       "</table>\n",
       "<p>73759 rows × 7 columns</p>\n",
       "</div>"
      ],
      "text/plain": [
       "                  minimalId       conversationId  sentiment  \\\n",
       "1523    1356642659771830276  1356642659771830276        0.5   \n",
       "8203    1360634926790545412  1360634926790545412        0.0   \n",
       "16177   1366044069311500289  1366044069311500289        0.5   \n",
       "21992   1369303845726261258  1369303845726261258       -0.5   \n",
       "20531   1368165193151307778  1368165193151307778        0.5   \n",
       "...                     ...                  ...        ...   \n",
       "39560   1376224043637080068  1376224043637080068        0.0   \n",
       "39562   1376225166552924160  1376225166552924160        0.5   \n",
       "39564   1376226464421584901  1376226464421584901        0.0   \n",
       "39567   1376233309060136965  1376233309060136965        0.0   \n",
       "109265  1396072129943199746  1396072129943199746        0.5   \n",
       "\n",
       "                     minimalDate               maximalDate         dateDiff  \\\n",
       "1523   2021-02-02 16:36:29+00:00 2021-04-20 14:54:42+00:00 76 days 22:18:13   \n",
       "8203   2021-02-13 17:00:20+00:00 2021-04-18 19:25:41+00:00 64 days 02:25:21   \n",
       "16177  2021-02-28 15:14:20+00:00 2021-04-29 10:37:10+00:00 59 days 19:22:50   \n",
       "21992  2021-03-09 15:07:31+00:00 2021-04-23 13:31:45+00:00 44 days 22:24:14   \n",
       "20531  2021-03-06 11:42:55+00:00 2021-04-17 21:10:29+00:00 42 days 09:27:34   \n",
       "...                          ...                       ...              ...   \n",
       "39560  2021-03-28 17:25:55+00:00 2021-03-28 17:25:55+00:00  0 days 00:00:00   \n",
       "39562  2021-03-28 17:30:23+00:00 2021-03-28 17:30:23+00:00  0 days 00:00:00   \n",
       "39564  2021-03-28 17:35:32+00:00 2021-03-28 17:35:32+00:00  0 days 00:00:00   \n",
       "39567  2021-03-28 18:02:44+00:00 2021-03-28 18:02:44+00:00  0 days 00:00:00   \n",
       "109265 2021-05-22 11:55:08+00:00 2021-05-22 11:55:08+00:00  0 days 00:00:00   \n",
       "\n",
       "            bins  \n",
       "1523    30+ days  \n",
       "8203    30+ days  \n",
       "16177   30+ days  \n",
       "21992   30+ days  \n",
       "20531   30+ days  \n",
       "...          ...  \n",
       "39560    0-1 min  \n",
       "39562    0-1 min  \n",
       "39564    0-1 min  \n",
       "39567    0-1 min  \n",
       "109265   0-1 min  \n",
       "\n",
       "[73759 rows x 7 columns]"
      ]
     },
     "execution_count": 65,
     "metadata": {},
     "output_type": "execute_result"
    }
   ],
   "source": [
    "merged[(merged['sentiment'] >= -0.5) & (merged['sentiment'] <= 0.5)].sort_values(\"dateDiff\", ascending=False)"
   ]
  },
  {
   "cell_type": "code",
   "execution_count": 66,
   "id": "acoustic-words",
   "metadata": {},
   "outputs": [
    {
     "data": {
      "text/plain": [
       "<AxesSubplot:xlabel='bins'>"
      ]
     },
     "execution_count": 66,
     "metadata": {},
     "output_type": "execute_result"
    },
    {
     "data": {
      "image/png": "[encoded data removed]",
      "text/plain": [
       "<Figure size 432x288 with 1 Axes>"
      ]
     },
     "metadata": {
      "needs_background": "light"
     },
     "output_type": "display_data"
    }
   ],
   "source": [
    "grouped.reset_index().plot.bar(x='bins', y='minimalId', legend = False)"
   ]
  },
  {
   "cell_type": "code",
   "execution_count": 67,
   "id": "thousand-profile",
   "metadata": {},
   "outputs": [],
   "source": [
    "merged[\"sentiment\"] = pd.to_numeric(merged[\"sentiment\"])"
   ]
  },
  {
   "cell_type": "code",
   "execution_count": 68,
   "id": "human-cloud",
   "metadata": {},
   "outputs": [],
   "source": [
    "grouped_xd = merged.groupby('dateDiff').agg( {'sentiment':['mean','std']}).reset_index()\n",
    "# grouped_xd.filter()"
   ]
  },
  {
   "cell_type": "code",
   "execution_count": 69,
   "id": "employed-touch",
   "metadata": {},
   "outputs": [
    {
     "data": {
      "text/plain": [
       "<AxesSubplot:title={'center':'Średni sentyment względem czasu życia tweeta'}, xlabel='bins'>"
      ]
     },
     "execution_count": 69,
     "metadata": {},
     "output_type": "execute_result"
    },
    {
     "data": {
      "image/png": "[encoded data removed]",
      "text/plain": [
       "<Figure size 720x216 with 1 Axes>"
      ]
     },
     "metadata": {
      "needs_background": "light"
     },
     "output_type": "display_data"
    }
   ],
   "source": [
    "merged.groupby('bins').sentiment.mean().reset_index().plot(x='bins', y ='sentiment', figsize=(10,3), title='Średni sentyment względem czasu życia tweeta')"
   ]
  },
  {
   "cell_type": "code",
   "execution_count": 70,
   "id": "accessory-updating",
   "metadata": {},
   "outputs": [
    {
     "data": {
      "text/plain": [
       "<AxesSubplot:>"
      ]
     },
     "execution_count": 70,
     "metadata": {},
     "output_type": "execute_result"
    },
    {
     "data": {
      "image/png": "[encoded data removed]",
      "text/plain": [
       "<Figure size 432x288 with 1 Axes>"
      ]
     },
     "metadata": {
      "needs_background": "light"
     },
     "output_type": "display_data"
    }
   ],
   "source": [
    "grouped_xd.loc[grouped_xd['dateDiff'] < pd.Timedelta(weeks = 1)]['sentiment'].plot(y='mean')"
   ]
  },
  {
   "cell_type": "code",
   "execution_count": 71,
   "id": "dutch-lease",
   "metadata": {},
   "outputs": [],
   "source": [
    "merged['sentimentHigh'] = merged['sentiment'] < 0"
   ]
  },
  {
   "cell_type": "code",
   "execution_count": 72,
   "id": "foster-interest",
   "metadata": {},
   "outputs": [
    {
     "data": {
      "text/plain": [
       "<AxesSubplot:xlabel='sentiment is high', ylabel='count'>"
      ]
     },
     "execution_count": 72,
     "metadata": {},
     "output_type": "execute_result"
    },
    {
     "data": {
      "image/png": "[encoded data removed]",
      "text/plain": [
       "<Figure size 432x288 with 1 Axes>"
      ]
     },
     "metadata": {
      "needs_background": "light"
     },
     "output_type": "display_data"
    }
   ],
   "source": [
    "merged.groupby('sentimentHigh').count().reset_index().plot.bar(x='sentimentHigh', y='minimalId', xlabel='sentiment is high', ylabel = 'count', legend = False)"
   ]
  },
  {
   "cell_type": "code",
   "execution_count": 73,
   "id": "focused-hormone",
   "metadata": {},
   "outputs": [],
   "source": [
    "merged['secondsOfLife'] = merged['dateDiff'].dt.total_seconds()"
   ]
  },
  {
   "cell_type": "code",
   "execution_count": 74,
   "id": "wanted-complexity",
   "metadata": {},
   "outputs": [],
   "source": [
    "grouped_by_sentiment = merged.groupby('sentiment').agg( {'secondsOfLife':['mean','std']})"
   ]
  },
  {
   "cell_type": "code",
   "execution_count": 75,
   "id": "plain-pillow",
   "metadata": {
    "scrolled": true
   },
   "outputs": [
    {
     "data": {
      "text/plain": [
       "<AxesSubplot:title={'center':'Średni czas życia w sekundach'}, xlabel='sentiment'>"
      ]
     },
     "execution_count": 75,
     "metadata": {},
     "output_type": "execute_result"
    },
    {
     "data": {
      "image/png": "[encoded data removed]",
      "text/plain": [
       "<Figure size 432x288 with 1 Axes>"
      ]
     },
     "metadata": {
      "needs_background": "light"
     },
     "output_type": "display_data"
    }
   ],
   "source": [
    "grouped_by_sentiment.secondsOfLife.plot(y = \"mean\", legend = False,title = \"Średni czas życia w sekundach\")"
   ]
  },
  {
   "cell_type": "markdown",
   "id": "irish-student",
   "metadata": {},
   "source": [
    "# Użytkownicy"
   ]
  },
  {
   "cell_type": "markdown",
   "id": "angry-enlargement",
   "metadata": {},
   "source": [
    "## Najwięcej sentymentu"
   ]
  },
  {
   "cell_type": "code",
   "execution_count": 76,
   "id": "recovered-visit",
   "metadata": {},
   "outputs": [],
   "source": [
    "grouped_sentiment = df.groupby('user')['sentiment'].sum().reset_index()"
   ]
  },
  {
   "cell_type": "code",
   "execution_count": 77,
   "id": "northern-wound",
   "metadata": {},
   "outputs": [
    {
     "data": {
      "text/html": [
       "<div>\n",
       "<style scoped>\n",
       "    .dataframe tbody tr th:only-of-type {\n",
       "        vertical-align: middle;\n",
       "    }\n",
       "\n",
       "    .dataframe tbody tr th {\n",
       "        vertical-align: top;\n",
       "    }\n",
       "\n",
       "    .dataframe thead th {\n",
       "        text-align: right;\n",
       "    }\n",
       "</style>\n",
       "<table border=\"1\" class=\"dataframe\">\n",
       "  <thead>\n",
       "    <tr style=\"text-align: right;\">\n",
       "      <th></th>\n",
       "      <th>user</th>\n",
       "      <th>sentiment</th>\n",
       "    </tr>\n",
       "  </thead>\n",
       "  <tbody>\n",
       "    <tr>\n",
       "      <th>33716</th>\n",
       "      <td>864554093825675265</td>\n",
       "      <td>150.0</td>\n",
       "    </tr>\n",
       "    <tr>\n",
       "      <th>3324</th>\n",
       "      <td>180822352</td>\n",
       "      <td>157.5</td>\n",
       "    </tr>\n",
       "    <tr>\n",
       "      <th>42523</th>\n",
       "      <td>1067900151329669120</td>\n",
       "      <td>163.0</td>\n",
       "    </tr>\n",
       "    <tr>\n",
       "      <th>58484</th>\n",
       "      <td>1302918570867912706</td>\n",
       "      <td>169.5</td>\n",
       "    </tr>\n",
       "    <tr>\n",
       "      <th>47017</th>\n",
       "      <td>1156144667756519424</td>\n",
       "      <td>170.0</td>\n",
       "    </tr>\n",
       "    <tr>\n",
       "      <th>13413</th>\n",
       "      <td>1363264568</td>\n",
       "      <td>182.0</td>\n",
       "    </tr>\n",
       "    <tr>\n",
       "      <th>8381</th>\n",
       "      <td>562800078</td>\n",
       "      <td>182.5</td>\n",
       "    </tr>\n",
       "    <tr>\n",
       "      <th>5842</th>\n",
       "      <td>381383589</td>\n",
       "      <td>205.5</td>\n",
       "    </tr>\n",
       "    <tr>\n",
       "      <th>16292</th>\n",
       "      <td>2239021813</td>\n",
       "      <td>220.0</td>\n",
       "    </tr>\n",
       "    <tr>\n",
       "      <th>63059</th>\n",
       "      <td>1346846950080081920</td>\n",
       "      <td>4835.0</td>\n",
       "    </tr>\n",
       "  </tbody>\n",
       "</table>\n",
       "</div>"
      ],
      "text/plain": [
       "                      user  sentiment\n",
       "33716   864554093825675265      150.0\n",
       "3324             180822352      157.5\n",
       "42523  1067900151329669120      163.0\n",
       "58484  1302918570867912706      169.5\n",
       "47017  1156144667756519424      170.0\n",
       "13413           1363264568      182.0\n",
       "8381             562800078      182.5\n",
       "5842             381383589      205.5\n",
       "16292           2239021813      220.0\n",
       "63059  1346846950080081920     4835.0"
      ]
     },
     "execution_count": 77,
     "metadata": {},
     "output_type": "execute_result"
    }
   ],
   "source": [
    "grouped_sentiment.sort_values('sentiment').tail(10)"
   ]
  },
  {
   "cell_type": "markdown",
   "id": "restricted-solomon",
   "metadata": {},
   "source": [
    "## Najwięcej tweetów"
   ]
  },
  {
   "cell_type": "code",
   "execution_count": 90,
   "id": "guided-frank",
   "metadata": {},
   "outputs": [],
   "source": [
    "grouped_count = df.groupby('user')['sentiment'].count().reset_index()"
   ]
  },
  {
   "cell_type": "code",
   "execution_count": 178,
   "id": "voluntary-container",
   "metadata": {},
   "outputs": [],
   "source": [
    "top_10_users_count = grouped_count.sort_values('sentiment', ascending = False).head(10)"
   ]
  },
  {
   "cell_type": "code",
   "execution_count": 179,
   "id": "mexican-equilibrium",
   "metadata": {},
   "outputs": [
    {
     "data": {
      "text/html": [
       "<div>\n",
       "<style scoped>\n",
       "    .dataframe tbody tr th:only-of-type {\n",
       "        vertical-align: middle;\n",
       "    }\n",
       "\n",
       "    .dataframe tbody tr th {\n",
       "        vertical-align: top;\n",
       "    }\n",
       "\n",
       "    .dataframe thead th {\n",
       "        text-align: right;\n",
       "    }\n",
       "</style>\n",
       "<table border=\"1\" class=\"dataframe\">\n",
       "  <thead>\n",
       "    <tr style=\"text-align: right;\">\n",
       "      <th></th>\n",
       "      <th>user</th>\n",
       "      <th>sentiment</th>\n",
       "    </tr>\n",
       "  </thead>\n",
       "  <tbody>\n",
       "    <tr>\n",
       "      <th>63059</th>\n",
       "      <td>1346846950080081920</td>\n",
       "      <td>10574</td>\n",
       "    </tr>\n",
       "    <tr>\n",
       "      <th>26563</th>\n",
       "      <td>4703620853</td>\n",
       "      <td>3493</td>\n",
       "    </tr>\n",
       "    <tr>\n",
       "      <th>39633</th>\n",
       "      <td>994143956266029056</td>\n",
       "      <td>2614</td>\n",
       "    </tr>\n",
       "    <tr>\n",
       "      <th>5555</th>\n",
       "      <td>361366954</td>\n",
       "      <td>1679</td>\n",
       "    </tr>\n",
       "    <tr>\n",
       "      <th>46656</th>\n",
       "      <td>1148565141895753729</td>\n",
       "      <td>1674</td>\n",
       "    </tr>\n",
       "    <tr>\n",
       "      <th>13413</th>\n",
       "      <td>1363264568</td>\n",
       "      <td>1673</td>\n",
       "    </tr>\n",
       "    <tr>\n",
       "      <th>9496</th>\n",
       "      <td>754000483</td>\n",
       "      <td>1377</td>\n",
       "    </tr>\n",
       "    <tr>\n",
       "      <th>2888</th>\n",
       "      <td>145353492</td>\n",
       "      <td>1219</td>\n",
       "    </tr>\n",
       "    <tr>\n",
       "      <th>54633</th>\n",
       "      <td>1259545924814155776</td>\n",
       "      <td>1167</td>\n",
       "    </tr>\n",
       "    <tr>\n",
       "      <th>20281</th>\n",
       "      <td>2861519819</td>\n",
       "      <td>1114</td>\n",
       "    </tr>\n",
       "  </tbody>\n",
       "</table>\n",
       "</div>"
      ],
      "text/plain": [
       "                      user  sentiment\n",
       "63059  1346846950080081920      10574\n",
       "26563           4703620853       3493\n",
       "39633   994143956266029056       2614\n",
       "5555             361366954       1679\n",
       "46656  1148565141895753729       1674\n",
       "13413           1363264568       1673\n",
       "9496             754000483       1377\n",
       "2888             145353492       1219\n",
       "54633  1259545924814155776       1167\n",
       "20281           2861519819       1114"
      ]
     },
     "execution_count": 179,
     "metadata": {},
     "output_type": "execute_result"
    }
   ],
   "source": [
    "top_10_users_count"
   ]
  },
  {
   "cell_type": "code",
   "execution_count": 181,
   "id": "american-ordinary",
   "metadata": {},
   "outputs": [
    {
     "name": "stdout",
     "output_type": "stream",
     "text": [
      "user: https://twitter.com/szczepimysie tweets count: 10574\n",
      "user: https://twitter.com/JacekJaworskiGd tweets count: 3493\n",
      "user: https://twitter.com/SamselMarcin tweets count: 2614\n",
      "user: https://twitter.com/TomaszLaszcz tweets count: 1679\n",
      "user: https://twitter.com/Dawid95001263 tweets count: 1674\n",
      "user: https://twitter.com/gfkot tweets count: 1673\n",
      "user: https://twitter.com/KiraCzarczynska tweets count: 1377\n",
      "user: https://twitter.com/arekmakarenko tweets count: 1219\n",
      "user: https://twitter.com/JarekMarek11 tweets count: 1167\n",
      "user: https://twitter.com/marek_zawal23 tweets count: 1114\n"
     ]
    }
   ],
   "source": [
    "for row in top_10_users_count.iterrows():\n",
    "    user, sentiment_count = row[1]\n",
    "    a = users_df[users_df['_id'] == np.int64(user)]['url']\n",
    "    print(\"user: %s tweets count: %d\" % (a.values[0], sentiment_count))\n"
   ]
  },
  {
   "cell_type": "code",
   "execution_count": 147,
   "id": "roman-compound",
   "metadata": {},
   "outputs": [
    {
     "data": {
      "text/plain": [
       "116    https://twitter.com/JarekMarek11\n",
       "Name: url, dtype: object"
      ]
     },
     "execution_count": 147,
     "metadata": {},
     "output_type": "execute_result"
    }
   ],
   "source": [
    "users_df[users_df['_id'] == np.int64(1259545924814155776)]['']"
   ]
  },
  {
   "cell_type": "markdown",
   "id": "further-andrews",
   "metadata": {},
   "source": [
    "# new covid cases"
   ]
  },
  {
   "cell_type": "code",
   "execution_count": 78,
   "id": "congressional-cooking",
   "metadata": {},
   "outputs": [
    {
     "name": "stderr",
     "output_type": "stream",
     "text": [
      "/home/michal/.local/lib/python3.8/site-packages/pandas/core/generic.py:5494: SettingWithCopyWarning: \n",
      "A value is trying to be set on a copy of a slice from a DataFrame.\n",
      "Try using .loc[row_indexer,col_indexer] = value instead\n",
      "\n",
      "See the caveats in the documentation: https://pandas.pydata.org/pandas-docs/stable/user_guide/indexing.html#returning-a-view-versus-a-copy\n",
      "  self[name] = value\n"
     ]
    }
   ],
   "source": [
    "covid_cases = pd.read_csv('full_data.csv')\n",
    "covid_cases_poland = covid_cases[covid_cases['location'] == 'Poland']\n",
    "covid_cases_poland.date = pd.to_datetime(covid_cases_poland.date)\n",
    "covid_cases_poland = covid_cases_poland[covid_cases_poland['date'] >= '2021-02-01']"
   ]
  },
  {
   "cell_type": "code",
   "execution_count": 79,
   "id": "dimensional-copying",
   "metadata": {},
   "outputs": [
    {
     "data": {
      "text/plain": [
       "<AxesSubplot:xlabel='date'>"
      ]
     },
     "execution_count": 79,
     "metadata": {},
     "output_type": "execute_result"
    },
    {
     "data": {
      "image/png": "[encoded data removed]",
      "text/plain": [
       "<Figure size 432x288 with 1 Axes>"
      ]
     },
     "metadata": {
      "needs_background": "light"
     },
     "output_type": "display_data"
    }
   ],
   "source": [
    "covid_cases_poland.plot(x = 'date',y='new_cases')"
   ]
  },
  {
   "cell_type": "code",
   "execution_count": 80,
   "id": "invisible-emphasis",
   "metadata": {},
   "outputs": [
    {
     "name": "stderr",
     "output_type": "stream",
     "text": [
      "/home/michal/.local/lib/python3.8/site-packages/pandas/core/generic.py:5494: SettingWithCopyWarning: \n",
      "A value is trying to be set on a copy of a slice from a DataFrame.\n",
      "Try using .loc[row_indexer,col_indexer] = value instead\n",
      "\n",
      "See the caveats in the documentation: https://pandas.pydata.org/pandas-docs/stable/user_guide/indexing.html#returning-a-view-versus-a-copy\n",
      "  self[name] = value\n"
     ]
    }
   ],
   "source": [
    "df_to_compae_cases = df[['date', 'sentiment']]\n",
    "df_to_compae_cases.date = pd.to_datetime(df_to_compae_cases.date)\n",
    "df_to_compae_cases.date = df_to_compae_cases.date.dt.date\n",
    "df_to_compae_cases.date = pd.to_datetime(df_to_compae_cases.date)\n",
    "df_to_compae_cases = df_to_compae_cases[df_to_compae_cases['date'] >= '2021-02-01']"
   ]
  },
  {
   "cell_type": "code",
   "execution_count": 81,
   "id": "muslim-relation",
   "metadata": {},
   "outputs": [
    {
     "data": {
      "text/plain": [
       "<AxesSubplot:>"
      ]
     },
     "execution_count": 81,
     "metadata": {},
     "output_type": "execute_result"
    },
    {
     "data": {
      "image/png": "[encoded data removed]",
      "text/plain": [
       "<Figure size 432x288 with 1 Axes>"
      ]
     },
     "metadata": {
      "needs_background": "light"
     },
     "output_type": "display_data"
    }
   ],
   "source": [
    "df_to_compae_cases.groupby('date').count().reset_index().sort_values('date').plot(y='sentiment', legend = False)"
   ]
  },
  {
   "cell_type": "code",
   "execution_count": 82,
   "id": "unlike-shareware",
   "metadata": {},
   "outputs": [],
   "source": [
    "grouped_to_compare = df_to_compae_cases.groupby('date').size().reset_index(name='countsOfTweets')"
   ]
  },
  {
   "cell_type": "code",
   "execution_count": 83,
   "id": "arabic-nutrition",
   "metadata": {},
   "outputs": [
    {
     "data": {
      "text/html": [
       "<div>\n",
       "<style scoped>\n",
       "    .dataframe tbody tr th:only-of-type {\n",
       "        vertical-align: middle;\n",
       "    }\n",
       "\n",
       "    .dataframe tbody tr th {\n",
       "        vertical-align: top;\n",
       "    }\n",
       "\n",
       "    .dataframe thead th {\n",
       "        text-align: right;\n",
       "    }\n",
       "</style>\n",
       "<table border=\"1\" class=\"dataframe\">\n",
       "  <thead>\n",
       "    <tr style=\"text-align: right;\">\n",
       "      <th></th>\n",
       "      <th>date</th>\n",
       "      <th>countsOfTweets</th>\n",
       "    </tr>\n",
       "  </thead>\n",
       "  <tbody>\n",
       "    <tr>\n",
       "      <th>0</th>\n",
       "      <td>2021-02-01</td>\n",
       "      <td>3018</td>\n",
       "    </tr>\n",
       "    <tr>\n",
       "      <th>1</th>\n",
       "      <td>2021-02-02</td>\n",
       "      <td>5226</td>\n",
       "    </tr>\n",
       "    <tr>\n",
       "      <th>2</th>\n",
       "      <td>2021-02-03</td>\n",
       "      <td>6038</td>\n",
       "    </tr>\n",
       "    <tr>\n",
       "      <th>3</th>\n",
       "      <td>2021-02-04</td>\n",
       "      <td>4358</td>\n",
       "    </tr>\n",
       "    <tr>\n",
       "      <th>4</th>\n",
       "      <td>2021-02-05</td>\n",
       "      <td>2617</td>\n",
       "    </tr>\n",
       "    <tr>\n",
       "      <th>...</th>\n",
       "      <td>...</td>\n",
       "      <td>...</td>\n",
       "    </tr>\n",
       "    <tr>\n",
       "      <th>106</th>\n",
       "      <td>2021-05-18</td>\n",
       "      <td>3957</td>\n",
       "    </tr>\n",
       "    <tr>\n",
       "      <th>107</th>\n",
       "      <td>2021-05-19</td>\n",
       "      <td>3733</td>\n",
       "    </tr>\n",
       "    <tr>\n",
       "      <th>108</th>\n",
       "      <td>2021-05-20</td>\n",
       "      <td>4870</td>\n",
       "    </tr>\n",
       "    <tr>\n",
       "      <th>109</th>\n",
       "      <td>2021-05-21</td>\n",
       "      <td>3916</td>\n",
       "    </tr>\n",
       "    <tr>\n",
       "      <th>110</th>\n",
       "      <td>2021-05-22</td>\n",
       "      <td>1367</td>\n",
       "    </tr>\n",
       "  </tbody>\n",
       "</table>\n",
       "<p>111 rows × 2 columns</p>\n",
       "</div>"
      ],
      "text/plain": [
       "          date  countsOfTweets\n",
       "0   2021-02-01            3018\n",
       "1   2021-02-02            5226\n",
       "2   2021-02-03            6038\n",
       "3   2021-02-04            4358\n",
       "4   2021-02-05            2617\n",
       "..         ...             ...\n",
       "106 2021-05-18            3957\n",
       "107 2021-05-19            3733\n",
       "108 2021-05-20            4870\n",
       "109 2021-05-21            3916\n",
       "110 2021-05-22            1367\n",
       "\n",
       "[111 rows x 2 columns]"
      ]
     },
     "execution_count": 83,
     "metadata": {},
     "output_type": "execute_result"
    }
   ],
   "source": [
    "grouped_to_compare"
   ]
  },
  {
   "cell_type": "code",
   "execution_count": 84,
   "id": "early-sunglasses",
   "metadata": {},
   "outputs": [
    {
     "data": {
      "text/html": [
       "<div>\n",
       "<style scoped>\n",
       "    .dataframe tbody tr th:only-of-type {\n",
       "        vertical-align: middle;\n",
       "    }\n",
       "\n",
       "    .dataframe tbody tr th {\n",
       "        vertical-align: top;\n",
       "    }\n",
       "\n",
       "    .dataframe thead th {\n",
       "        text-align: right;\n",
       "    }\n",
       "</style>\n",
       "<table border=\"1\" class=\"dataframe\">\n",
       "  <thead>\n",
       "    <tr style=\"text-align: right;\">\n",
       "      <th></th>\n",
       "      <th>date</th>\n",
       "      <th>location</th>\n",
       "      <th>new_cases</th>\n",
       "      <th>new_deaths</th>\n",
       "      <th>total_cases</th>\n",
       "      <th>total_deaths</th>\n",
       "      <th>weekly_cases</th>\n",
       "      <th>weekly_deaths</th>\n",
       "      <th>biweekly_cases</th>\n",
       "      <th>biweekly_deaths</th>\n",
       "    </tr>\n",
       "  </thead>\n",
       "  <tbody>\n",
       "    <tr>\n",
       "      <th>62482</th>\n",
       "      <td>2021-02-01</td>\n",
       "      <td>Poland</td>\n",
       "      <td>2504.0</td>\n",
       "      <td>42.0</td>\n",
       "      <td>1515889.0</td>\n",
       "      <td>37222.0</td>\n",
       "      <td>37770.0</td>\n",
       "      <td>1821.0</td>\n",
       "      <td>76975.0</td>\n",
       "      <td>3815.0</td>\n",
       "    </tr>\n",
       "    <tr>\n",
       "      <th>62483</th>\n",
       "      <td>2021-02-02</td>\n",
       "      <td>Poland</td>\n",
       "      <td>4326.0</td>\n",
       "      <td>254.0</td>\n",
       "      <td>1520215.0</td>\n",
       "      <td>37476.0</td>\n",
       "      <td>37493.0</td>\n",
       "      <td>1811.0</td>\n",
       "      <td>76411.0</td>\n",
       "      <td>3778.0</td>\n",
       "    </tr>\n",
       "    <tr>\n",
       "      <th>62484</th>\n",
       "      <td>2021-02-03</td>\n",
       "      <td>Poland</td>\n",
       "      <td>6801.0</td>\n",
       "      <td>421.0</td>\n",
       "      <td>1527016.0</td>\n",
       "      <td>37897.0</td>\n",
       "      <td>37504.0</td>\n",
       "      <td>1843.0</td>\n",
       "      <td>76269.0</td>\n",
       "      <td>3756.0</td>\n",
       "    </tr>\n",
       "    <tr>\n",
       "      <th>62485</th>\n",
       "      <td>2021-02-04</td>\n",
       "      <td>Poland</td>\n",
       "      <td>6495.0</td>\n",
       "      <td>447.0</td>\n",
       "      <td>1533511.0</td>\n",
       "      <td>38344.0</td>\n",
       "      <td>36846.0</td>\n",
       "      <td>1901.0</td>\n",
       "      <td>75756.0</td>\n",
       "      <td>3783.0</td>\n",
       "    </tr>\n",
       "    <tr>\n",
       "      <th>62486</th>\n",
       "      <td>2021-02-05</td>\n",
       "      <td>Poland</td>\n",
       "      <td>6053.0</td>\n",
       "      <td>368.0</td>\n",
       "      <td>1539564.0</td>\n",
       "      <td>38712.0</td>\n",
       "      <td>36754.0</td>\n",
       "      <td>1932.0</td>\n",
       "      <td>75116.0</td>\n",
       "      <td>3804.0</td>\n",
       "    </tr>\n",
       "    <tr>\n",
       "      <th>...</th>\n",
       "      <td>...</td>\n",
       "      <td>...</td>\n",
       "      <td>...</td>\n",
       "      <td>...</td>\n",
       "      <td>...</td>\n",
       "      <td>...</td>\n",
       "      <td>...</td>\n",
       "      <td>...</td>\n",
       "      <td>...</td>\n",
       "      <td>...</td>\n",
       "    </tr>\n",
       "    <tr>\n",
       "      <th>62584</th>\n",
       "      <td>2021-05-14</td>\n",
       "      <td>Poland</td>\n",
       "      <td>3252.0</td>\n",
       "      <td>290.0</td>\n",
       "      <td>2849014.0</td>\n",
       "      <td>71311.0</td>\n",
       "      <td>24589.0</td>\n",
       "      <td>1866.0</td>\n",
       "      <td>56872.0</td>\n",
       "      <td>3809.0</td>\n",
       "    </tr>\n",
       "    <tr>\n",
       "      <th>62585</th>\n",
       "      <td>2021-05-15</td>\n",
       "      <td>Poland</td>\n",
       "      <td>2897.0</td>\n",
       "      <td>298.0</td>\n",
       "      <td>2851911.0</td>\n",
       "      <td>71609.0</td>\n",
       "      <td>22715.0</td>\n",
       "      <td>1743.0</td>\n",
       "      <td>53294.0</td>\n",
       "      <td>3685.0</td>\n",
       "    </tr>\n",
       "    <tr>\n",
       "      <th>62586</th>\n",
       "      <td>2021-05-16</td>\n",
       "      <td>Poland</td>\n",
       "      <td>2168.0</td>\n",
       "      <td>55.0</td>\n",
       "      <td>2854079.0</td>\n",
       "      <td>71664.0</td>\n",
       "      <td>21027.0</td>\n",
       "      <td>1652.0</td>\n",
       "      <td>50846.0</td>\n",
       "      <td>3596.0</td>\n",
       "    </tr>\n",
       "    <tr>\n",
       "      <th>62587</th>\n",
       "      <td>2021-05-17</td>\n",
       "      <td>Poland</td>\n",
       "      <td>1111.0</td>\n",
       "      <td>11.0</td>\n",
       "      <td>2855190.0</td>\n",
       "      <td>71675.0</td>\n",
       "      <td>20107.0</td>\n",
       "      <td>1641.0</td>\n",
       "      <td>49434.0</td>\n",
       "      <td>3570.0</td>\n",
       "    </tr>\n",
       "    <tr>\n",
       "      <th>62588</th>\n",
       "      <td>2021-05-18</td>\n",
       "      <td>Poland</td>\n",
       "      <td>1734.0</td>\n",
       "      <td>245.0</td>\n",
       "      <td>2856924.0</td>\n",
       "      <td>71920.0</td>\n",
       "      <td>18744.0</td>\n",
       "      <td>1584.0</td>\n",
       "      <td>48872.0</td>\n",
       "      <td>3787.0</td>\n",
       "    </tr>\n",
       "  </tbody>\n",
       "</table>\n",
       "<p>107 rows × 10 columns</p>\n",
       "</div>"
      ],
      "text/plain": [
       "            date location  new_cases  new_deaths  total_cases  total_deaths  \\\n",
       "62482 2021-02-01   Poland     2504.0        42.0    1515889.0       37222.0   \n",
       "62483 2021-02-02   Poland     4326.0       254.0    1520215.0       37476.0   \n",
       "62484 2021-02-03   Poland     6801.0       421.0    1527016.0       37897.0   \n",
       "62485 2021-02-04   Poland     6495.0       447.0    1533511.0       38344.0   \n",
       "62486 2021-02-05   Poland     6053.0       368.0    1539564.0       38712.0   \n",
       "...          ...      ...        ...         ...          ...           ...   \n",
       "62584 2021-05-14   Poland     3252.0       290.0    2849014.0       71311.0   \n",
       "62585 2021-05-15   Poland     2897.0       298.0    2851911.0       71609.0   \n",
       "62586 2021-05-16   Poland     2168.0        55.0    2854079.0       71664.0   \n",
       "62587 2021-05-17   Poland     1111.0        11.0    2855190.0       71675.0   \n",
       "62588 2021-05-18   Poland     1734.0       245.0    2856924.0       71920.0   \n",
       "\n",
       "       weekly_cases  weekly_deaths  biweekly_cases  biweekly_deaths  \n",
       "62482       37770.0         1821.0         76975.0           3815.0  \n",
       "62483       37493.0         1811.0         76411.0           3778.0  \n",
       "62484       37504.0         1843.0         76269.0           3756.0  \n",
       "62485       36846.0         1901.0         75756.0           3783.0  \n",
       "62486       36754.0         1932.0         75116.0           3804.0  \n",
       "...             ...            ...             ...              ...  \n",
       "62584       24589.0         1866.0         56872.0           3809.0  \n",
       "62585       22715.0         1743.0         53294.0           3685.0  \n",
       "62586       21027.0         1652.0         50846.0           3596.0  \n",
       "62587       20107.0         1641.0         49434.0           3570.0  \n",
       "62588       18744.0         1584.0         48872.0           3787.0  \n",
       "\n",
       "[107 rows x 10 columns]"
      ]
     },
     "execution_count": 84,
     "metadata": {},
     "output_type": "execute_result"
    }
   ],
   "source": [
    "covid_cases_poland"
   ]
  },
  {
   "cell_type": "code",
   "execution_count": 85,
   "id": "arbitrary-solid",
   "metadata": {},
   "outputs": [],
   "source": [
    "tweets_amd_cases = grouped_to_compare.merge(covid_cases_poland, on = 'date')"
   ]
  },
  {
   "cell_type": "code",
   "execution_count": 89,
   "id": "architectural-ferry",
   "metadata": {},
   "outputs": [
    {
     "data": {
      "text/plain": [
       "<AxesSubplot:xlabel='date'>"
      ]
     },
     "execution_count": 89,
     "metadata": {},
     "output_type": "execute_result"
    },
    {
     "data": {
      "image/png": "[encoded data removed]",
      "text/plain": [
       "<Figure size 432x288 with 1 Axes>"
      ]
     },
     "metadata": {
      "needs_background": "light"
     },
     "output_type": "display_data"
    }
   ],
   "source": [
    "tweets_amd_cases.plot(x = 'date', y=['countsOfTweets', 'new_cases'])"
   ]
  },
  {
   "cell_type": "code",
   "execution_count": 88,
   "id": "silver-medicaid",
   "metadata": {},
   "outputs": [
    {
     "data": {
      "text/plain": [
       "<AxesSubplot:xlabel='date'>"
      ]
     },
     "execution_count": 88,
     "metadata": {},
     "output_type": "execute_result"
    },
    {
     "data": {
      "image/png": "[encoded data removed]",
      "text/plain": [
       "<Figure size 432x288 with 1 Axes>"
      ]
     },
     "metadata": {
      "needs_background": "light"
     },
     "output_type": "display_data"
    }
   ],
   "source": [
    "tweets_amd_cases.plot(x = 'date', y=['countsOfTweets', 'new_deaths'])"
   ]
  }
 ],
 "metadata": {
  "kernelspec": {
   "display_name": "Python 3",
   "language": "python",
   "name": "python3"
  },
  "language_info": {
   "codemirror_mode": {
    "name": "ipython",
    "version": 3
   },
   "file_extension": ".py",
   "mimetype": "text/x-python",
   "name": "python",
   "nbconvert_exporter": "python",
   "pygments_lexer": "ipython3",
   "version": "3.8.5"
  }
 },
 "nbformat": 4,
 "nbformat_minor": 5
}
