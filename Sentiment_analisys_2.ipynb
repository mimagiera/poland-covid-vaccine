{
 "cells": [
  {
   "cell_type": "markdown",
   "metadata": {},
   "source": [
    "### Wczytanie tweetów"
   ]
  },
  {
   "cell_type": "code",
   "execution_count": null,
   "metadata": {},
   "outputs": [],
   "source": [
    "import pandas as pd\n",
    "import pymongo\n",
    "\n",
    "DB_CONN_STRING = \"mongodb://localhost:27017/\"\n",
    "DB_NAME = \"recent-poland-covid-vaccine-tweets\"\n",
    "COLLECTION_NAME = \"tweets\"\n",
    "\n",
    "mongo_client = pymongo.MongoClient(DB_CONN_STRING)\n",
    "database_name = mongo_client[DB_NAME]\n",
    "data_collection = database_name[COLLECTION_NAME]\n",
    "\n",
    "projection = {\"_id\": 1, \"conversationId\":1, \"sentiment\": 1}\n",
    "tweets = [tweet for tweet in data_collection.find({}, projection)]\n",
    "\n",
    "df = pd.DataFrame(tweets)\n",
    "# df"
   ]
  },
  {
   "cell_type": "markdown",
   "metadata": {},
   "source": [
    "### Reorganizacja danych"
   ]
  },
  {
   "cell_type": "code",
   "execution_count": null,
   "metadata": {},
   "outputs": [],
   "source": [
    "import numpy as np"
   ]
  },
  {
   "cell_type": "code",
   "execution_count": null,
   "metadata": {},
   "outputs": [],
   "source": [
    "roots = df.query('_id == conversationId')[\"_id\"].values\n",
    "df[\"root_exists\"] = df.apply(lambda row: row[\"conversationId\"] in roots, axis=1)\n",
    "df = df.query('root_exists == True')"
   ]
  },
  {
   "cell_type": "code",
   "execution_count": null,
   "metadata": {},
   "outputs": [],
   "source": [
    "def is_positive(sentiment_val):\n",
    "    if sentiment_val[\"_id\"] == sentiment_val[\"conversationId\"]:\n",
    "        return 0\n",
    "    sentiment_val = float(sentiment_val['sentiment'])\n",
    "    return 1 if sentiment_val > 0 else 0\n",
    "\n",
    "def is_neutral(sentiment_val):\n",
    "    if sentiment_val[\"_id\"] == sentiment_val[\"conversationId\"]:\n",
    "        return 0\n",
    "    sentiment_val = float(sentiment_val['sentiment'])\n",
    "    return 1 if sentiment_val == 0 else 0\n",
    "\n",
    "def is_negative(sentiment_val):\n",
    "    if sentiment_val[\"_id\"] == sentiment_val[\"conversationId\"]:\n",
    "        return 0\n",
    "    sentiment_val = float(sentiment_val['sentiment'])\n",
    "    return 1 if sentiment_val < 0 else 0\n",
    "\n",
    "df[\"positive\"] = df.apply(is_positive, axis=1)\n",
    "df[\"neutral\"] = df.apply(is_neutral, axis=1)\n",
    "df[\"negative\"] = df.apply(is_negative, axis=1)\n",
    "df"
   ]
  },
  {
   "cell_type": "code",
   "execution_count": null,
   "metadata": {},
   "outputs": [],
   "source": [
    "df.index = df['_id']\n",
    "df[\"conversationRootSentiment\"] = df.apply(lambda row: df.loc[row['conversationId']]['sentiment'], axis=1)"
   ]
  },
  {
   "cell_type": "code",
   "execution_count": null,
   "metadata": {
    "scrolled": false
   },
   "outputs": [],
   "source": [
    "sentiment_grouped_df = df[['conversationRootSentiment', 'positive', 'neutral', 'negative']].groupby(by=['conversationRootSentiment']).sum()\n",
    "sentiment_grouped_df"
   ]
  },
  {
   "cell_type": "code",
   "execution_count": null,
   "metadata": {},
   "outputs": [],
   "source": [
    "def get_sentiment(sentiment_val):\n",
    "    sentiment_val = float(sentiment_val)\n",
    "    if sentiment_val > 0:\n",
    "        return \"positive\"\n",
    "    if sentiment_val == 0:\n",
    "        return \"neutral\"\n",
    "    if sentiment_val < 0:\n",
    "        return \"negative\"\n",
    "\n",
    "\n",
    "sentiment_grouped_df[\"conversationRootSentiment\"] = sentiment_grouped_df.index\n",
    "sentiment_grouped_df[\"conversationRootSentiment2\"] = sentiment_grouped_df.apply(lambda row: get_sentiment(row[\"conversationRootSentiment\"]), axis=1)\n",
    "sentiment_grouped_df2 = sentiment_grouped_df.groupby(by=['conversationRootSentiment2']).sum()"
   ]
  },
  {
   "cell_type": "code",
   "execution_count": null,
   "metadata": {},
   "outputs": [],
   "source": [
    "sentiment_grouped_df2_norm = sentiment_grouped_df2.div(sentiment_grouped_df2.sum(axis=1), axis=0)\n",
    "sentiment_grouped_df2_norm"
   ]
  },
  {
   "cell_type": "code",
   "execution_count": null,
   "metadata": {},
   "outputs": [],
   "source": [
    "import seaborn as sns\n",
    "import matplotlib.pyplot as plt\n",
    "\n",
    "f, ax = plt.subplots(figsize=(15,10))\n",
    "ax = sns.heatmap(sentiment_grouped_df2_norm, annot=True)"
   ]
  },
  {
   "cell_type": "code",
   "execution_count": null,
   "metadata": {},
   "outputs": [],
   "source": []
  }
 ],
 "metadata": {
  "kernelspec": {
   "display_name": "Python 3",
   "language": "python",
   "name": "python3"
  },
  "language_info": {
   "codemirror_mode": {
    "name": "ipython",
    "version": 3
   },
   "file_extension": ".py",
   "mimetype": "text/x-python",
   "name": "python",
   "nbconvert_exporter": "python",
   "pygments_lexer": "ipython3",
   "version": "3.7.3"
  }
 },
 "nbformat": 4,
 "nbformat_minor": 4
}
