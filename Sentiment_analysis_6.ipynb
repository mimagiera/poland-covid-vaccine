{
 "cells": [
  {
   "cell_type": "code",
   "execution_count": 1,
   "metadata": {},
   "outputs": [],
   "source": [
    "import pymongo\n",
    "import pandas as pd\n",
    "import numpy as np\n",
    "import matplotlib.pyplot as plt\n",
    "\n",
    "DB_CONN_STRING = \"mongodb://localhost:27017/\"\n",
    "DB_NAME = \"recent-poland-covid-vaccine-tweets\"\n",
    "COLLECTION_NAME = \"tweets\"\n",
    "\n",
    "mongo_client = pymongo.MongoClient(DB_CONN_STRING)\n",
    "database_name = mongo_client[DB_NAME]\n",
    "data_collection = database_name[COLLECTION_NAME]\n",
    "\n",
    "projection = {'replyCount': 1, 'retweetCount': 1, 'likeCount': 1, 'quoteCount': 1, 'sentiment': 1}\n",
    "tweets = [tweet for tweet in data_collection.find({'covid_topic': True}, projection)]\n",
    "\n",
    "df = pd.DataFrame(tweets)"
   ]
  },
  {
   "cell_type": "code",
   "execution_count": 83,
   "metadata": {},
   "outputs": [],
   "source": [
    "RED = '#b50000'\n",
    "YELLOW = '#ffe100'\n",
    "GREEN = '#13bd00'\n",
    "\n",
    "x_var = 'quoteCount'\n",
    "\n",
    "df[\"sentiment\"] = pd.to_numeric(df[\"sentiment\"])\n",
    "\n",
    "max_like_count = max(df[x_var])\n",
    "bin_number = 10\n",
    "bin_size = max_like_count // bin_number\n",
    "bins = [i * bin_size for i in range(bin_number)] + [max_like_count]\n",
    "bins = list(map(lambda b: int( (b/max_like_count)**2.5 * max_like_count ), bins))"
   ]
  },
  {
   "cell_type": "code",
   "execution_count": 84,
   "metadata": {},
   "outputs": [],
   "source": [
    "df = df[df[x_var] > 0]\n",
    "df['bins'] = pd.cut(df[x_var], bins)"
   ]
  },
  {
   "cell_type": "code",
   "execution_count": 85,
   "metadata": {},
   "outputs": [],
   "source": [
    "positive_grouped = df[df['sentiment'] > 0].groupby('bins').count()\n",
    "neutral_grouped = df[df['sentiment'] == 0].groupby('bins').count()\n",
    "negative_grouped = df[df['sentiment'] < 0].groupby('bins').count()"
   ]
  },
  {
   "cell_type": "code",
   "execution_count": 86,
   "metadata": {},
   "outputs": [
    {
     "data": {
      "text/html": [
       "<div>\n",
       "<style scoped>\n",
       "    .dataframe tbody tr th:only-of-type {\n",
       "        vertical-align: middle;\n",
       "    }\n",
       "\n",
       "    .dataframe tbody tr th {\n",
       "        vertical-align: top;\n",
       "    }\n",
       "\n",
       "    .dataframe thead th {\n",
       "        text-align: right;\n",
       "    }\n",
       "</style>\n",
       "<table border=\"1\" class=\"dataframe\">\n",
       "  <thead>\n",
       "    <tr style=\"text-align: right;\">\n",
       "      <th></th>\n",
       "      <th>_id</th>\n",
       "      <th>positiveCount</th>\n",
       "      <th>neutralCount</th>\n",
       "      <th>negativeCount</th>\n",
       "      <th>sum</th>\n",
       "    </tr>\n",
       "    <tr>\n",
       "      <th>bins</th>\n",
       "      <th></th>\n",
       "      <th></th>\n",
       "      <th></th>\n",
       "      <th></th>\n",
       "      <th></th>\n",
       "    </tr>\n",
       "  </thead>\n",
       "  <tbody>\n",
       "    <tr>\n",
       "      <th>(0, 2]</th>\n",
       "      <td>3693</td>\n",
       "      <td>3693</td>\n",
       "      <td>2813</td>\n",
       "      <td>2605</td>\n",
       "      <td>9111</td>\n",
       "    </tr>\n",
       "    <tr>\n",
       "      <th>(2, 11]</th>\n",
       "      <td>1441</td>\n",
       "      <td>1441</td>\n",
       "      <td>1074</td>\n",
       "      <td>912</td>\n",
       "      <td>3427</td>\n",
       "    </tr>\n",
       "    <tr>\n",
       "      <th>(11, 32]</th>\n",
       "      <td>208</td>\n",
       "      <td>208</td>\n",
       "      <td>140</td>\n",
       "      <td>125</td>\n",
       "      <td>473</td>\n",
       "    </tr>\n",
       "    <tr>\n",
       "      <th>(32, 66]</th>\n",
       "      <td>54</td>\n",
       "      <td>54</td>\n",
       "      <td>32</td>\n",
       "      <td>20</td>\n",
       "      <td>106</td>\n",
       "    </tr>\n",
       "    <tr>\n",
       "      <th>(66, 115]</th>\n",
       "      <td>10</td>\n",
       "      <td>10</td>\n",
       "      <td>10</td>\n",
       "      <td>11</td>\n",
       "      <td>31</td>\n",
       "    </tr>\n",
       "    <tr>\n",
       "      <th>(115, 182]</th>\n",
       "      <td>8</td>\n",
       "      <td>8</td>\n",
       "      <td>5</td>\n",
       "      <td>2</td>\n",
       "      <td>15</td>\n",
       "    </tr>\n",
       "    <tr>\n",
       "      <th>(182, 268]</th>\n",
       "      <td>0</td>\n",
       "      <td>0</td>\n",
       "      <td>0</td>\n",
       "      <td>1</td>\n",
       "      <td>1</td>\n",
       "    </tr>\n",
       "    <tr>\n",
       "      <th>(268, 375]</th>\n",
       "      <td>1</td>\n",
       "      <td>1</td>\n",
       "      <td>1</td>\n",
       "      <td>0</td>\n",
       "      <td>2</td>\n",
       "    </tr>\n",
       "    <tr>\n",
       "      <th>(375, 503]</th>\n",
       "      <td>2</td>\n",
       "      <td>2</td>\n",
       "      <td>0</td>\n",
       "      <td>0</td>\n",
       "      <td>2</td>\n",
       "    </tr>\n",
       "    <tr>\n",
       "      <th>(503, 663]</th>\n",
       "      <td>1</td>\n",
       "      <td>1</td>\n",
       "      <td>1</td>\n",
       "      <td>0</td>\n",
       "      <td>2</td>\n",
       "    </tr>\n",
       "  </tbody>\n",
       "</table>\n",
       "</div>"
      ],
      "text/plain": [
       "             _id  positiveCount  neutralCount  negativeCount   sum\n",
       "bins                                                              \n",
       "(0, 2]      3693           3693          2813           2605  9111\n",
       "(2, 11]     1441           1441          1074            912  3427\n",
       "(11, 32]     208            208           140            125   473\n",
       "(32, 66]      54             54            32             20   106\n",
       "(66, 115]     10             10            10             11    31\n",
       "(115, 182]     8              8             5              2    15\n",
       "(182, 268]     0              0             0              1     1\n",
       "(268, 375]     1              1             1              0     2\n",
       "(375, 503]     2              2             0              0     2\n",
       "(503, 663]     1              1             1              0     2"
      ]
     },
     "execution_count": 86,
     "metadata": {},
     "output_type": "execute_result"
    }
   ],
   "source": [
    "grouped_by_bins = pd.DataFrame(positive_grouped[\"_id\"])\n",
    "grouped_by_bins[\"positiveCount\"] = positive_grouped[\"sentiment\"]\n",
    "grouped_by_bins[\"neutralCount\"] = neutral_grouped[\"sentiment\"]\n",
    "grouped_by_bins[\"negativeCount\"] = negative_grouped[\"sentiment\"]\n",
    "grouped_by_bins[\"sum\"] = grouped_by_bins[\"positiveCount\"] + grouped_by_bins[\"neutralCount\"] + grouped_by_bins[\"negativeCount\"]\n",
    "grouped_by_bins"
   ]
  },
  {
   "cell_type": "code",
   "execution_count": 87,
   "metadata": {},
   "outputs": [
    {
     "data": {
      "text/plain": [
       "Text(0, 0.5, 'Liczba tweetów o określonym sentymencie')"
      ]
     },
     "execution_count": 87,
     "metadata": {},
     "output_type": "execute_result"
    },
    {
     "data": {
      "image/png": "[encoded data removed]",
      "text/plain": [
       "<Figure size 864x576 with 1 Axes>"
      ]
     },
     "metadata": {
      "needs_background": "light"
     },
     "output_type": "display_data"
    }
   ],
   "source": [
    "x = np.arange(len(grouped_by_bins))\n",
    "width = 0.2\n",
    "\n",
    "plt.subplots(figsize=(12,8))\n",
    "plt.bar(x-width,grouped_by_bins['positiveCount'],width,color=GREEN)\n",
    "plt.bar(x, grouped_by_bins['neutralCount'],width,color=YELLOW)\n",
    "plt.bar(x+width, grouped_by_bins['negativeCount'],width,color=RED)\n",
    "# plt.bar(x-width,100 * grouped_by_bins['positiveCount']/grouped_by_bins['sum'],width,color=GREEN)\n",
    "# plt.bar(x, 100 *grouped_by_bins['neutralCount']/grouped_by_bins['sum'],width,color=YELLOW)\n",
    "# plt.bar(x+width, 100* grouped_by_bins['negativeCount']/grouped_by_bins['sum'],width,color=RED)\n",
    "\n",
    "plt.xticks(x, grouped_by_bins.index)\n",
    "plt.yscale('log')\n",
    "plt.title(\"Sentyment w zależności od liczby cytowań\",  fontsize=18)\n",
    "plt.ylabel(\"Liczba tweetów o określonym sentymencie\", fontsize=16)"
   ]
  },
  {
   "cell_type": "code",
   "execution_count": null,
   "metadata": {},
   "outputs": [],
   "source": []
  },
  {
   "cell_type": "code",
   "execution_count": 132,
   "metadata": {},
   "outputs": [],
   "source": []
  },
  {
   "cell_type": "code",
   "execution_count": 129,
   "metadata": {},
   "outputs": [],
   "source": []
  },
  {
   "cell_type": "code",
   "execution_count": null,
   "metadata": {},
   "outputs": [],
   "source": []
  }
 ],
 "metadata": {
  "kernelspec": {
   "display_name": "Python 3",
   "language": "python",
   "name": "python3"
  },
  "language_info": {
   "codemirror_mode": {
    "name": "ipython",
    "version": 3
   },
   "file_extension": ".py",
   "mimetype": "text/x-python",
   "name": "python",
   "nbconvert_exporter": "python",
   "pygments_lexer": "ipython3",
   "version": "3.7.3"
  }
 },
 "nbformat": 4,
 "nbformat_minor": 4
}
